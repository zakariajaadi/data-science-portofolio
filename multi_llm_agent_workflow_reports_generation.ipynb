{
  "metadata": {
    "kernelspec": {
      "display_name": "Python 3",
      "name": "python3"
    },
    "language_info": {
      "name": "python",
      "version": "3.10.12",
      "mimetype": "text/x-python",
      "codemirror_mode": {
        "name": "ipython",
        "version": 3
      },
      "pygments_lexer": "ipython3",
      "nbconvert_exporter": "python",
      "file_extension": ".py"
    },
    "kaggle": {
      "accelerator": "none",
      "dataSources": [],
      "dockerImageVersionId": 30918,
      "isInternetEnabled": true,
      "language": "python",
      "sourceType": "notebook",
      "isGpuEnabled": false
    },
    "colab": {
      "name": "mutli AI Agent",
      "provenance": [],
      "gpuType": "T4",
      "include_colab_link": true
    }
  },
  "nbformat_minor": 0,
  "nbformat": 4,
  "cells": [
    {
      "cell_type": "markdown",
      "metadata": {
        "id": "view-in-github",
        "colab_type": "text"
      },
      "source": [
        "<a href=\"https://colab.research.google.com/github/zakariajaadi/data-science-portofolio/blob/main/multi_llm_agent_workflow_reports_generation.ipynb\" target=\"_parent\"><img src=\"https://colab.research.google.com/assets/colab-badge.svg\" alt=\"Open In Colab\"/></a>"
      ]
    },
    {
      "cell_type": "markdown",
      "source": [
        "Authored by : Zakaria Jaadi\n",
        "# Multi-Agent LLM Workflow for End-to-End Report Automation 🤖 🤝 🤖\n",
        "\n",
        "Imagine a team of AI agents working together seamlessly to create your reports while you sit back and sip your coffee.\n",
        "\n",
        "That's exactly what this notebook delivers, an advanced multi-agent LLM workflow designed to automate the entire report generation process on any given topic and produce professional-quality reports.\n",
        "\n",
        "Each agent plays a specialized role:\n",
        "* **Research Agent** : searches the web and gathers up-to-date information on the topic.\n",
        "* **Writer Agent** : Takes the gathered insights and crafts a well-structured report.\n",
        "* **Review Agent** : Evaluates the report’s quality, ensuring it meets high standards, and can prompt the Writer Agent to refine the report if there are gaps in accuracy, clarity, or coherence.\n",
        "\n",
        "This isn't just automation; it's a teamwork that delivers superior results while saving you countless hours of manual work.\n",
        "\n",
        "\n",
        "For this workflow, we’ll be using Gemini 2.0 Flash as the underlying LLM, and Tavily to power the web search.\n",
        "\n",
        "let's dive in 🚀"
      ],
      "metadata": {
        "id": "GE9GemRzrHtt"
      }
    },
    {
      "cell_type": "code",
      "source": [
        "!pip install -q -U llama-index-llms-google-genai\n",
        "!pip install -q -U llama-index-utils-workflow\n",
        "!pip install -q -U tavily-python"
      ],
      "metadata": {
        "_uuid": "8f2839f25d086af736a60e9eeb907d3b93b6e0e5",
        "_cell_guid": "b1076dfc-b9ad-4769-8c92-a6c4dae69d19",
        "trusted": true,
        "execution": {
          "iopub.status.busy": "2025-04-08T14:10:02.173332Z",
          "iopub.execute_input": "2025-04-08T14:10:02.173533Z",
          "iopub.status.idle": "2025-04-08T14:10:48.432471Z",
          "shell.execute_reply.started": "2025-04-08T14:10:02.173514Z",
          "shell.execute_reply": "2025-04-08T14:10:48.431624Z"
        },
        "collapsed": true,
        "jupyter": {
          "outputs_hidden": true
        },
        "colab": {
          "base_uri": "https://localhost:8080/"
        },
        "id": "AOzKFqmYgmBY",
        "outputId": "9e021bd8-bb17-4481-88bd-197e4b6dcb66"
      },
      "outputs": [
        {
          "output_type": "stream",
          "name": "stdout",
          "text": [
            "\u001b[?25l     \u001b[90m━━━━━━━━━━━━━━━━━━━━━━━━━━━━━━━━━━━━━━━━\u001b[0m \u001b[32m0.0/56.5 kB\u001b[0m \u001b[31m?\u001b[0m eta \u001b[36m-:--:--\u001b[0m\r\u001b[2K     \u001b[90m━━━━━━━━━━━━━━━━━━━━━━━━━━━━━━━━━━━━━━━━\u001b[0m \u001b[32m56.5/56.5 kB\u001b[0m \u001b[31m2.2 MB/s\u001b[0m eta \u001b[36m0:00:00\u001b[0m\n",
            "\u001b[?25h  Preparing metadata (setup.py) ... \u001b[?25l\u001b[?25hdone\n",
            "  Preparing metadata (setup.py) ... \u001b[?25l\u001b[?25hdone\n",
            "  Preparing metadata (setup.py) ... \u001b[?25l\u001b[?25hdone\n",
            "\u001b[2K     \u001b[90m━━━━━━━━━━━━━━━━━━━━━━━━━━━━━━━━━━━━━━━━\u001b[0m \u001b[32m7.4/7.4 MB\u001b[0m \u001b[31m53.4 MB/s\u001b[0m eta \u001b[36m0:00:00\u001b[0m\n",
            "\u001b[?25h  Preparing metadata (setup.py) ... \u001b[?25l\u001b[?25hdone\n",
            "  Preparing metadata (setup.py) ... \u001b[?25l\u001b[?25hdone\n",
            "  Preparing metadata (setup.py) ... \u001b[?25l\u001b[?25hdone\n",
            "\u001b[2K   \u001b[90m━━━━━━━━━━━━━━━━━━━━━━━━━━━━━━━━━━━━━━━━\u001b[0m \u001b[32m97.1/97.1 kB\u001b[0m \u001b[31m6.4 MB/s\u001b[0m eta \u001b[36m0:00:00\u001b[0m\n",
            "\u001b[2K   \u001b[90m━━━━━━━━━━━━━━━━━━━━━━━━━━━━━━━━━━━━━━━━\u001b[0m \u001b[32m1.6/1.6 MB\u001b[0m \u001b[31m53.7 MB/s\u001b[0m eta \u001b[36m0:00:00\u001b[0m\n",
            "\u001b[2K   \u001b[90m━━━━━━━━━━━━━━━━━━━━━━━━━━━━━━━━━━━━━━━━\u001b[0m \u001b[32m211.1/211.1 kB\u001b[0m \u001b[31m14.0 MB/s\u001b[0m eta \u001b[36m0:00:00\u001b[0m\n",
            "\u001b[2K   \u001b[90m━━━━━━━━━━━━━━━━━━━━━━━━━━━━━━━━━━━━━━━━\u001b[0m \u001b[32m45.2/45.2 MB\u001b[0m \u001b[31m13.1 MB/s\u001b[0m eta \u001b[36m0:00:00\u001b[0m\n",
            "\u001b[2K   \u001b[90m━━━━━━━━━━━━━━━━━━━━━━━━━━━━━━━━━━━━━━━━\u001b[0m \u001b[32m9.4/9.4 MB\u001b[0m \u001b[31m94.8 MB/s\u001b[0m eta \u001b[36m0:00:00\u001b[0m\n",
            "\u001b[2K   \u001b[90m━━━━━━━━━━━━━━━━━━━━━━━━━━━━━━━━━━━━━━━━\u001b[0m \u001b[32m81.3/81.3 kB\u001b[0m \u001b[31m6.1 MB/s\u001b[0m eta \u001b[36m0:00:00\u001b[0m\n",
            "\u001b[2K   \u001b[90m━━━━━━━━━━━━━━━━━━━━━━━━━━━━━━━━━━━━━━━━\u001b[0m \u001b[32m1.2/1.2 MB\u001b[0m \u001b[31m51.9 MB/s\u001b[0m eta \u001b[36m0:00:00\u001b[0m\n",
            "\u001b[2K   \u001b[90m━━━━━━━━━━━━━━━━━━━━━━━━━━━━━━━━━━━━━━━━\u001b[0m \u001b[32m106.3/106.3 kB\u001b[0m \u001b[31m8.1 MB/s\u001b[0m eta \u001b[36m0:00:00\u001b[0m\n",
            "\u001b[2K   \u001b[90m━━━━━━━━━━━━━━━━━━━━━━━━━━━━━━━━━━━━━━━━\u001b[0m \u001b[32m492.9/492.9 kB\u001b[0m \u001b[31m29.4 MB/s\u001b[0m eta \u001b[36m0:00:00\u001b[0m\n",
            "\u001b[2K   \u001b[90m━━━━━━━━━━━━━━━━━━━━━━━━━━━━━━━━━━━━━━━━\u001b[0m \u001b[32m50.9/50.9 kB\u001b[0m \u001b[31m3.6 MB/s\u001b[0m eta \u001b[36m0:00:00\u001b[0m\n",
            "\u001b[2K   \u001b[90m━━━━━━━━━━━━━━━━━━━━━━━━━━━━━━━━━━━━━━━━\u001b[0m \u001b[32m129.2/129.2 kB\u001b[0m \u001b[31m9.6 MB/s\u001b[0m eta \u001b[36m0:00:00\u001b[0m\n",
            "\u001b[?25h  Building wheel for html2text (setup.py) ... \u001b[?25l\u001b[?25hdone\n",
            "  Building wheel for tinysegmenter (setup.py) ... \u001b[?25l\u001b[?25hdone\n",
            "  Building wheel for spider-client (setup.py) ... \u001b[?25l\u001b[?25hdone\n",
            "  Building wheel for feedfinder2 (setup.py) ... \u001b[?25l\u001b[?25hdone\n",
            "  Building wheel for jieba3k (setup.py) ... \u001b[?25l\u001b[?25hdone\n",
            "  Building wheel for sgmllib3k (setup.py) ... \u001b[?25l\u001b[?25hdone\n",
            "\u001b[2K   \u001b[90m━━━━━━━━━━━━━━━━━━━━━━━━━━━━━━━━━━━━━━━━\u001b[0m \u001b[32m4.5/4.5 MB\u001b[0m \u001b[31m37.3 MB/s\u001b[0m eta \u001b[36m0:00:00\u001b[0m\n",
            "\u001b[2K   \u001b[90m━━━━━━━━━━━━━━━━━━━━━━━━━━━━━━━━━━━━━━━━\u001b[0m \u001b[32m756.0/756.0 kB\u001b[0m \u001b[31m11.7 MB/s\u001b[0m eta \u001b[36m0:00:00\u001b[0m\n",
            "\u001b[2K   \u001b[90m━━━━━━━━━━━━━━━━━━━━━━━━━━━━━━━━━━━━━━━━\u001b[0m \u001b[32m1.6/1.6 MB\u001b[0m \u001b[31m47.5 MB/s\u001b[0m eta \u001b[36m0:00:00\u001b[0m\n",
            "\u001b[2K     \u001b[90m━━━━━━━━━━━━━━━━━━━━━━━━━━━━━━━━━━━━━━━━\u001b[0m \u001b[32m91.6/91.6 kB\u001b[0m \u001b[31m1.8 MB/s\u001b[0m eta \u001b[36m0:00:00\u001b[0m\n",
            "\u001b[2K   \u001b[90m━━━━━━━━━━━━━━━━━━━━━━━━━━━━━━━━━━━━━━━━\u001b[0m \u001b[32m44.4/44.4 kB\u001b[0m \u001b[31m2.5 MB/s\u001b[0m eta \u001b[36m0:00:00\u001b[0m\n",
            "\u001b[?25h"
          ]
        }
      ],
      "execution_count": null
    },
    {
      "cell_type": "code",
      "source": [
        "from llama_index.llms.google_genai import GoogleGenAI\n",
        "from tavily import AsyncTavilyClient\n",
        "\n",
        "from llama_index.core.agent import FunctionCallingAgent as GenericFunctionCallingAgent\n",
        "from llama_index.core.tools import FunctionTool\n",
        "from llama_index.core.workflow import (\n",
        "    Context,\n",
        "    Event ,\n",
        "    StartEvent,\n",
        "    StopEvent,\n",
        "    Workflow,\n",
        "    step,\n",
        ")\n"
      ],
      "metadata": {
        "trusted": true,
        "execution": {
          "iopub.status.busy": "2025-04-08T14:12:52.843081Z",
          "iopub.execute_input": "2025-04-08T14:12:52.843389Z",
          "iopub.status.idle": "2025-04-08T14:13:01.587169Z",
          "shell.execute_reply.started": "2025-04-08T14:12:52.843368Z",
          "shell.execute_reply": "2025-04-08T14:13:01.586491Z"
        },
        "id": "7hzM06iIgmBh"
      },
      "outputs": [],
      "execution_count": null
    },
    {
      "cell_type": "markdown",
      "source": [
        "##  1- Set API keys"
      ],
      "metadata": {
        "id": "hW-QRow1gmBj"
      }
    },
    {
      "cell_type": "code",
      "source": [
        "import os\n",
        "from google.colab import userdata\n",
        "\n",
        "google_api_key = userdata.get(\"GOOGLE_API_KEY\")\n",
        "tavily_api_key = userdata.get(\"TAVILY_API_KEY\")\n",
        "\n",
        "os.environ[\"GOOGLE_API_KEY\"]=google_api_key"
      ],
      "metadata": {
        "trusted": true,
        "execution": {
          "iopub.status.busy": "2025-04-08T14:13:25.659311Z",
          "iopub.execute_input": "2025-04-08T14:13:25.659591Z",
          "iopub.status.idle": "2025-04-08T14:13:26.218759Z",
          "shell.execute_reply.started": "2025-04-08T14:13:25.659571Z",
          "shell.execute_reply": "2025-04-08T14:13:26.21808Z"
        },
        "id": "YVS_yg1UgmBm"
      },
      "outputs": [],
      "execution_count": null
    },
    {
      "cell_type": "markdown",
      "source": [
        "## 2- Create LLM"
      ],
      "metadata": {
        "id": "ZM3PJ_yLgmBn"
      }
    },
    {
      "cell_type": "code",
      "source": [
        "llm= GoogleGenAI(model=\"gemini-2.0-flash\")\n",
        "\n",
        "# Test LLM\n",
        "print(llm.complete(\"Who is Ibn Battuta ?\"))"
      ],
      "metadata": {
        "trusted": true,
        "execution": {
          "iopub.status.busy": "2025-04-08T14:13:30.800854Z",
          "iopub.execute_input": "2025-04-08T14:13:30.801179Z",
          "iopub.status.idle": "2025-04-08T14:13:35.306647Z",
          "shell.execute_reply.started": "2025-04-08T14:13:30.801151Z",
          "shell.execute_reply": "2025-04-08T14:13:35.305953Z"
        },
        "collapsed": true,
        "jupyter": {
          "outputs_hidden": true
        },
        "id": "eQdsF9JggmBp",
        "outputId": "6f3fe038-3016-469a-c325-245d0421f7aa",
        "colab": {
          "base_uri": "https://localhost:8080/"
        }
      },
      "outputs": [
        {
          "output_type": "stream",
          "name": "stderr",
          "text": [
            "INFO:httpx:HTTP Request: GET https://generativelanguage.googleapis.com/v1beta/models/gemini-2.0-flash \"HTTP/1.1 200 OK\"\n",
            "INFO:google_genai.models:AFC is enabled with max remote calls: 10.\n",
            "INFO:httpx:HTTP Request: POST https://generativelanguage.googleapis.com/v1beta/models/gemini-2.0-flash:generateContent \"HTTP/1.1 200 OK\"\n",
            "INFO:google_genai.models:AFC remote call 1 is done.\n"
          ]
        },
        {
          "output_type": "stream",
          "name": "stdout",
          "text": [
            "Ibn Battuta was a **Moroccan Muslim scholar and explorer who is widely regarded as one of the greatest travelers of all time.** He is famous for his extensive travels throughout the medieval world, covering nearly the entirety of the known Islamic world and beyond.\n",
            "\n",
            "Here's a breakdown of key aspects of his life and legacy:\n",
            "\n",
            "*   **Lifespan:** Born in Tangier, Morocco, in 1304 and died around 1368 or 1369.\n",
            "*   **Travels:** He traveled for nearly 30 years, covering an estimated 73,000 miles (117,000 kilometers). His journeys took him through North Africa, the Middle East, Central Asia, Southeast Asia, India, China, and even parts of Europe.\n",
            "*   **Purpose of Travel:** While his initial intention was to perform the Hajj (pilgrimage to Mecca), he continued traveling for decades, serving as a judge (qadi) in various places, exploring new cultures, and seeking adventure.\n",
            "*   **The Rihla:** His travels were documented in a book called \"A Gift to Those Who Contemplate the Wonders of Cities and the Marvels of Traveling,\" often referred to as \"The Rihla\" (The Journey). This book provides valuable insights into the cultures, societies, and political landscapes of the 14th century.\n",
            "*   **Significance:** Ibn Battuta's travels and writings are significant for several reasons:\n",
            "    *   **Historical Record:** His account provides a detailed and firsthand perspective on the medieval world, offering information about trade routes, political systems, religious practices, and daily life.\n",
            "    *   **Cultural Exchange:** He documented the interactions between different cultures and societies, highlighting both similarities and differences.\n",
            "    *   **Geographical Knowledge:** His travels expanded geographical knowledge and understanding of the world.\n",
            "    *   **Personal Perspective:** His writings offer a personal and often subjective view of the places he visited and the people he encountered.\n",
            "\n",
            "In summary, Ibn Battuta was an extraordinary traveler and writer whose journeys and observations have left a lasting legacy, providing invaluable insights into the medieval world and the interconnectedness of different cultures.\n"
          ]
        }
      ],
      "execution_count": null
    },
    {
      "cell_type": "markdown",
      "source": [
        "## 4 - Create tools"
      ],
      "metadata": {
        "id": "Bi_WtVOrgmBq"
      }
    },
    {
      "cell_type": "code",
      "source": [
        "# Tool that searches the web with tavily\n",
        "async def search_web(query: str) -> str:\n",
        "    \"\"\"Useful for using the web to answer questions.\"\"\"\n",
        "    client = AsyncTavilyClient(api_key=tavily_api_key)\n",
        "    return str(await client.search(query))"
      ],
      "metadata": {
        "trusted": true,
        "execution": {
          "iopub.status.busy": "2025-04-08T14:13:38.008417Z",
          "iopub.execute_input": "2025-04-08T14:13:38.008714Z",
          "iopub.status.idle": "2025-04-08T14:13:38.012676Z",
          "shell.execute_reply.started": "2025-04-08T14:13:38.008693Z",
          "shell.execute_reply": "2025-04-08T14:13:38.011943Z"
        },
        "id": "mfQ1yelFgmBs"
      },
      "outputs": [],
      "execution_count": null
    },
    {
      "cell_type": "markdown",
      "source": [
        "## 5- Create Agents"
      ],
      "metadata": {
        "id": "ODRYsplJgmBt"
      }
    },
    {
      "cell_type": "code",
      "source": [
        "# Convert our web search functions into a tool\n",
        "search_web_tool = FunctionTool.from_defaults(fn=search_web)\n",
        "\n",
        "research_agent = GenericFunctionCallingAgent.from_tools(\n",
        "    tools=[search_web_tool],\n",
        "    llm=llm,\n",
        "    verbose=False,\n",
        "    allow_parallel_tool_calls=False,\n",
        "    system_prompt=\"You are an agent that does research by searching the web and then records the results of your research.\"\n",
        ")\n",
        "write_agent = GenericFunctionCallingAgent.from_tools(\n",
        "    tools=[],\n",
        "    llm=llm,\n",
        "    verbose=False,\n",
        "    allow_parallel_tool_calls=False,\n",
        "    system_prompt=\"You are an agent that writes a report based on the results of research by another agent.\"\n",
        ")\n",
        "review_agent = GenericFunctionCallingAgent.from_tools(\n",
        "    tools=[],\n",
        "    llm=llm,\n",
        "    verbose=False,\n",
        "    allow_parallel_tool_calls=False,\n",
        "    system_prompt=\"You are an agent that reviews a report written by a different agent.\"\n",
        ")"
      ],
      "metadata": {
        "trusted": true,
        "execution": {
          "iopub.status.busy": "2025-04-08T14:13:40.802353Z",
          "iopub.execute_input": "2025-04-08T14:13:40.802657Z",
          "iopub.status.idle": "2025-04-08T14:13:41.00762Z",
          "shell.execute_reply.started": "2025-04-08T14:13:40.802633Z",
          "shell.execute_reply": "2025-04-08T14:13:41.006689Z"
        },
        "id": "HDV28n-egmBu"
      },
      "outputs": [],
      "execution_count": null
    },
    {
      "cell_type": "markdown",
      "source": [
        "## 6- Create agent workflow"
      ],
      "metadata": {
        "id": "1eCrJL90gmBv"
      }
    },
    {
      "cell_type": "markdown",
      "source": [
        "Define events classes ( Messages / Triggers passed between agents)"
      ],
      "metadata": {
        "id": "dp99LKi3gmBv"
      }
    },
    {
      "cell_type": "code",
      "source": [
        "class ResearchEvent(Event):\n",
        "    prompt: str\n",
        "\n",
        "class WriteEvent(Event):\n",
        "    research: str\n",
        "\n",
        "class ReviewEvent(Event):\n",
        "    report: str\n",
        "\n",
        "class ReviewResults(Event):\n",
        "    review: str\n",
        "\n",
        "class RewriteEvent(Event):\n",
        "    review: str\n",
        "\n",
        "# Our WriteEvent doesn't need research attached any more (cause it's added to the context)\n",
        "class WriteEvent(Event):\n",
        "    pass\n"
      ],
      "metadata": {
        "trusted": true,
        "execution": {
          "iopub.status.busy": "2025-04-08T14:13:44.117561Z",
          "iopub.execute_input": "2025-04-08T14:13:44.117865Z",
          "iopub.status.idle": "2025-04-08T14:13:44.127761Z",
          "shell.execute_reply.started": "2025-04-08T14:13:44.117841Z",
          "shell.execute_reply": "2025-04-08T14:13:44.127029Z"
        },
        "id": "1_kdxpXDgmBv"
      },
      "outputs": [],
      "execution_count": null
    },
    {
      "cell_type": "markdown",
      "source": [
        "Define Agent Workflow class"
      ],
      "metadata": {
        "id": "DkY1l4WIycI9"
      }
    },
    {
      "cell_type": "code",
      "source": [
        "class MyMultiAgentFlow(Workflow):\n",
        "\n",
        "    @step\n",
        "    async def setup(self, ev: StartEvent) -> ResearchEvent:\n",
        "        self.research_agent = ev.research_agent\n",
        "        self.write_agent = ev.write_agent\n",
        "        self.review_agent = ev.review_agent\n",
        "        return ResearchEvent(prompt=ev.prompt)\n",
        "\n",
        "    @step\n",
        "    async def research(self, ctx: Context, ev: ResearchEvent) -> WriteEvent:\n",
        "\n",
        "        # Store the prompt in the context\n",
        "        await ctx.set(\"prompt\", ev.prompt)\n",
        "\n",
        "        # Do Research\n",
        "        result = self.research_agent.chat(f\"\"\"\n",
        "        Do a detailed research that another agent will use to write a report about this topic: <topic>{ev.prompt}</topic>.\n",
        "        You must not call the web search tool multiple times at once.\n",
        "        \"\"\")\n",
        "\n",
        "        # Store the research in the context for multiple uses\n",
        "        await ctx.set(\"research\", str(result))\n",
        "\n",
        "        return WriteEvent()\n",
        "\n",
        "    @step\n",
        "    async def write(self, ctx: Context, ev: WriteEvent | RewriteEvent ) -> ReviewEvent:\n",
        "\n",
        "        # Get research result and prompt from context\n",
        "        research= await ctx.get('research')\n",
        "        prompt= await ctx.get('prompt')\n",
        "\n",
        "        # Create prompt\n",
        "        prompt = f\"\"\"\n",
        "        Write a detailed report based on this research: <research>{research}</research>\n",
        "        and this topic: <topic>{prompt}</topic> \"\"\"\n",
        "\n",
        "        # Detect RewriteEvents and modify the prompt\n",
        "        if isinstance(ev, RewriteEvent):\n",
        "            print(\"Doing a rewrite!\")\n",
        "            prompt += f\"\"\"This report has reviewed and the reviewer had this feedback,\n",
        "            which you should take into account: <review>{ev.review}</review>\"\"\"\n",
        "\n",
        "        # Hand off to write agent\n",
        "        result = self.write_agent.chat(prompt)\n",
        "\n",
        "        return ReviewEvent(report=str(result))\n",
        "\n",
        "    @step\n",
        "    async def review(self, ctx: Context, ev: ReviewEvent) -> StopEvent | RewriteEvent:\n",
        "\n",
        "        # Hand off to review agent\n",
        "        result = self.review_agent.chat(f\"Review this report: {ev.report}\")\n",
        "\n",
        "        # get the LLM to self-reflect\n",
        "        try_again = llm.complete(f\"\"\"\n",
        "        This is a review of a report written by an agent.\n",
        "        If you think this review is bad enough that the agent should try again, respond with just the word RETRY.\n",
        "        If the review is good, reply with just the word CONTINUE. Here's the review: <review>{str(result)}</review>\"\"\")\n",
        "\n",
        "        if try_again.text == \"RETRY\":\n",
        "            print(\"Reviewer said try again\")\n",
        "            return RewriteEvent(review=str(result))\n",
        "        else:\n",
        "            print(\"Reviewer thought it was good!\")\n",
        "            return StopEvent(result=ev.report)"
      ],
      "metadata": {
        "trusted": true,
        "execution": {
          "iopub.status.busy": "2025-04-08T14:13:46.18731Z",
          "iopub.execute_input": "2025-04-08T14:13:46.187602Z",
          "iopub.status.idle": "2025-04-08T14:13:46.195256Z",
          "shell.execute_reply.started": "2025-04-08T14:13:46.18758Z",
          "shell.execute_reply": "2025-04-08T14:13:46.194496Z"
        },
        "id": "uOMIrdzwgmBw"
      },
      "outputs": [],
      "execution_count": null
    },
    {
      "cell_type": "code",
      "source": [
        "workflow = MyMultiAgentFlow(timeout=30, verbose=True)"
      ],
      "metadata": {
        "trusted": true,
        "execution": {
          "iopub.status.busy": "2025-04-08T14:13:49.899168Z",
          "iopub.execute_input": "2025-04-08T14:13:49.899462Z",
          "iopub.status.idle": "2025-04-08T14:13:49.903651Z",
          "shell.execute_reply.started": "2025-04-08T14:13:49.899439Z",
          "shell.execute_reply": "2025-04-08T14:13:49.902688Z"
        },
        "id": "d314mxoigmBx"
      },
      "outputs": [],
      "execution_count": null
    },
    {
      "cell_type": "markdown",
      "source": [
        "## 7- Plot Agent Workflow"
      ],
      "metadata": {
        "id": "XkNwT-fHgmBy"
      }
    },
    {
      "cell_type": "code",
      "source": [
        "from llama_index.utils.workflow import draw_all_possible_flows\n",
        "from IPython.display import IFrame\n",
        "import base64\n",
        "\n",
        "file_name=\"workflow.html\"\n",
        "draw_all_possible_flows(workflow, filename=file_name)\n",
        "\n",
        "\n",
        "# Read and encode the HTML\n",
        "with open(file_name, \"rb\") as f:\n",
        "       encoded_html = base64.b64encode(f.read()).decode(\"utf-8\")\n",
        "\n",
        "\n",
        "# Display workflow\n",
        "IFrame(src=f\"data:text/html;base64,{encoded_html}\", width=800, height=600)"
      ],
      "metadata": {
        "trusted": true,
        "execution": {
          "iopub.status.busy": "2025-04-08T14:13:52.11095Z",
          "iopub.execute_input": "2025-04-08T14:13:52.111291Z",
          "iopub.status.idle": "2025-04-08T14:13:52.164273Z",
          "shell.execute_reply.started": "2025-04-08T14:13:52.111264Z",
          "shell.execute_reply": "2025-04-08T14:13:52.163599Z"
        },
        "outputId": "9aa50f9c-5aa0-49a2-885c-97f5b33da4d0",
        "colab": {
          "base_uri": "https://localhost:8080/",
          "height": 639
        },
        "id": "CY1vy63djyWu"
      },
      "outputs": [
        {
          "output_type": "stream",
          "name": "stdout",
          "text": [
            "workflow.html\n"
          ]
        },
        {
          "output_type": "execute_result",
          "data": {
            "text/plain": [
              "<IPython.lib.display.IFrame at 0x7f5f2cf43190>"
            ],
            "text/html": [
              "\n",
              "        <iframe\n",
              "            width=\"800\"\n",
              "            height=\"600\"\n",
              "            src=\"data:text/html;base64,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\"\n",
              "            frameborder=\"0\"\n",
              "            allowfullscreen\n",
              "            \n",
              "        ></iframe>\n",
              "        "
            ]
          },
          "metadata": {},
          "execution_count": 79
        }
      ],
      "execution_count": null
    },
    {
      "cell_type": "markdown",
      "source": [
        "## 8- Run Workflow on this topic : `AI regulation across the European Union in 2025`"
      ],
      "metadata": {
        "id": "qQG2wYxigmBz"
      }
    },
    {
      "cell_type": "code",
      "source": [
        "prompt=\"AI regulation across the European Union in 2025\""
      ],
      "metadata": {
        "trusted": true,
        "execution": {
          "iopub.status.busy": "2025-04-08T14:14:55.900562Z",
          "iopub.execute_input": "2025-04-08T14:14:55.900865Z",
          "iopub.status.idle": "2025-04-08T14:14:55.904251Z",
          "shell.execute_reply.started": "2025-04-08T14:14:55.900844Z",
          "shell.execute_reply": "2025-04-08T14:14:55.903491Z"
        },
        "id": "Uo9VEJjCgmBz"
      },
      "outputs": [],
      "execution_count": null
    },
    {
      "cell_type": "code",
      "source": [
        "import nest_asyncio\n",
        "from IPython.display import Markdown, display\n",
        "\n",
        "nest_asyncio.apply()\n",
        "\n",
        "workflow = MyMultiAgentFlow(timeout=30, verbose=True)\n",
        "\n",
        "handler = workflow.run(\n",
        "    prompt=prompt,\n",
        "    research_agent=research_agent,\n",
        "    write_agent=write_agent,\n",
        "    review_agent=review_agent\n",
        ")"
      ],
      "metadata": {
        "trusted": true,
        "execution": {
          "iopub.status.busy": "2025-04-08T14:14:56.864801Z",
          "iopub.execute_input": "2025-04-08T14:14:56.865081Z",
          "iopub.status.idle": "2025-04-08T14:14:56.87114Z",
          "shell.execute_reply.started": "2025-04-08T14:14:56.865061Z",
          "shell.execute_reply": "2025-04-08T14:14:56.870508Z"
        },
        "id": "kAiwfzsugmBz",
        "outputId": "7fdfc4d4-30d2-47c6-e2f8-8590c6e44094"
      },
      "outputs": [
        {
          "name": "stdout",
          "text": "Running step setup\nStep setup produced event ResearchEvent\nRunning step research\nStep research produced event WriteEvent\nRunning step write\nStep write produced event ReviewEvent\nRunning step review\nReviewer thought it was good!\nStep review produced event StopEvent\n",
          "output_type": "stream"
        }
      ],
      "execution_count": null
    },
    {
      "cell_type": "markdown",
      "source": [
        "The workflow execution went as expected 🎉\n",
        "\n",
        "* the workflow started with web research, followed by write, and ended with review.\n",
        "* The reviewer thought it was good, completing the workflow.\n",
        "* Each step produced an event that moved the process to the next stage."
      ],
      "metadata": {
        "id": "addZz-c3z2sS"
      }
    },
    {
      "cell_type": "markdown",
      "source": [
        "# 9 - Visualize the generated report 🚀"
      ],
      "metadata": {
        "id": "AIGobJzlgmBz"
      }
    },
    {
      "cell_type": "code",
      "source": [
        "final_result = await handler\n",
        "print(\"==== The report ====\")\n",
        "display(Markdown(final_result))"
      ],
      "metadata": {
        "trusted": true,
        "execution": {
          "iopub.status.busy": "2025-04-08T14:15:19.044064Z",
          "iopub.execute_input": "2025-04-08T14:15:19.044375Z",
          "iopub.status.idle": "2025-04-08T14:15:19.050878Z",
          "shell.execute_reply.started": "2025-04-08T14:15:19.044353Z",
          "shell.execute_reply": "2025-04-08T14:15:19.049974Z"
        },
        "id": "x25FsR2pgmB0",
        "outputId": "6c205545-7a07-4a53-ca3c-704439acd103"
      },
      "outputs": [
        {
          "name": "stdout",
          "text": "==== The report ====\n",
          "output_type": "stream"
        },
        {
          "output_type": "display_data",
          "data": {
            "text/plain": "<IPython.core.display.Markdown object>",
            "text/markdown": "## AI Regulation Across the European Union in 2025: A Comprehensive Overview\n\nThis report provides an overview of the anticipated AI regulatory landscape across the European Union in 2025, focusing on the key legislation, implementation timelines, and core principles shaping the future of AI development and deployment within the EU. The cornerstone of this regulatory framework is the EU AI Act, designed to foster trustworthy AI while safeguarding fundamental rights, health, safety, and democratic values.\n\n**Key Legislation Driving AI Regulation:**\n\nThe EU's approach to AI regulation in 2025 is primarily driven by two key pieces of legislation:\n\n*   **The EU AI Act:** This landmark legislation establishes a comprehensive, risk-based framework for regulating AI systems operating within the EU. Its core objective is to promote the development and adoption of trustworthy AI while mitigating potential risks to individuals and society.\n*   **Regulation (EU) 2024/1689:** This regulation plays a crucial role in harmonizing the internal market by creating a uniform legal foundation for the development, marketing, and utilization of AI systems. It aims to ensure a level playing field for businesses and promote innovation within the EU.\n\n**Implementation Timeline and Key Dates:**\n\nWhile the EU AI Act is a comprehensive piece of legislation, its implementation will be phased. Key milestones expected in 2025 include:\n\n*   **Early 2025:** The initial stages of the AI Act's implementation will begin, focusing on foundational elements such as the definition of an AI system, initiatives to promote AI literacy among the population, and the enforcement of prohibitions on specific AI applications deemed to pose unacceptable risks. This early phase sets the stage for the broader implementation of the Act.\n*   **March 7, 2025:** Commission Implementing Regulation (EU) 2025/454 will come into effect. This regulation specifically addresses the operational aspects of Regulation (EU) 2024/1689, particularly concerning the establishment of a scientific panel comprised of independent AI experts. This panel will play a vital role in providing guidance and expertise on AI-related matters.\n*   **Full Implementation:** While the exact date is not specified, 2025 is expected to be the deadline for the complete enforcement of prohibitions on certain AI systems deemed to pose unacceptable risks. This signifies a critical step in ensuring that AI systems deployed within the EU adhere to the highest ethical and safety standards.\n\n**Core Principles of the AI Act:**\n\nThe EU AI Act is built upon several core principles that guide its regulatory approach:\n\n*   **Risk-Based Approach:** The Act employs a risk-based classification system, categorizing AI systems into four levels: unacceptable, high, limited, and minimal risk. The level of regulatory scrutiny and requirements increases proportionally with the assessed risk level. This allows for a targeted and proportionate approach to regulation.\n*   **Prohibited AI Practices:** The Act explicitly prohibits certain AI practices considered to pose unacceptable risks to fundamental rights, safety, and democratic values. These prohibitions aim to prevent the deployment of AI systems that could lead to discriminatory outcomes, mass surveillance, or other harmful consequences.\n*   **Requirements for High-Risk AI Systems:** AI systems classified as high-risk are subject to stringent requirements related to data quality, transparency, human oversight, and cybersecurity. These requirements are designed to ensure that high-risk AI systems are reliable, safe, and accountable.\n*   **Enforcement and Oversight:** The European Parliament has established a dedicated working group to oversee the implementation and enforcement of the AI Act. This working group will play a crucial role in monitoring compliance, addressing emerging challenges, and ensuring that the Act remains effective in achieving its objectives.\n\n**Key Focus Areas:**\n\nThe EU's AI regulatory framework in 2025 is particularly focused on the following areas:\n\n*   **Protection of Fundamental Rights:** A primary objective is to safeguard fundamental rights, including democracy, the rule of law, and environmental protection, from the potential adverse effects of AI systems. This reflects the EU's commitment to ensuring that AI is developed and used in a manner that respects human dignity and promotes social well-being.\n*   **Innovation and Competitiveness:** The EU aims to foster innovation in the digital sector while simultaneously ensuring responsible AI development and use. The regulatory framework is designed to strike a balance between promoting technological advancement and mitigating potential risks.\n*   **AI Literacy and Awareness:** Recognizing the importance of public understanding and engagement, the regulations emphasize the need for AI literacy initiatives. These initiatives aim to empower citizens to make informed decisions about AI and participate in shaping its future.\n\n**Conclusion:**\n\nThe AI regulatory landscape in the EU in 2025 will be significantly shaped by the EU AI Act and related regulations. The risk-based approach, coupled with a focus on fundamental rights, innovation, and AI literacy, reflects the EU's commitment to fostering a responsible and trustworthy AI ecosystem. The successful implementation and enforcement of these regulations will be crucial in ensuring that AI benefits society while mitigating potential risks. The establishment of the scientific panel and the European Parliament's working group demonstrate the EU's dedication to ongoing monitoring and adaptation of the regulatory framework to address the evolving challenges and opportunities presented by AI.\n"
          },
          "metadata": {}
        }
      ],
      "execution_count": null
    },
    {
      "cell_type": "markdown",
      "source": [
        "# pretty good result 🎉"
      ],
      "metadata": {
        "id": "3PJV-joo1NEr"
      }
    },
    {
      "cell_type": "markdown",
      "source": [
        "# Et Voila ! 🤗"
      ],
      "metadata": {
        "id": "pfB9Fx4g1BfS"
      }
    }
  ]
}