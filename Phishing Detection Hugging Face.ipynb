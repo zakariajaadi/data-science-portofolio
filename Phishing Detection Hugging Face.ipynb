{
 "cells": [
  {
   "cell_type": "markdown",
   "id": "c780473a-c4b2-402c-983f-29124f98cdb7",
   "metadata": {},
   "source": [
    "# Fine-Tuning BERT for Phishing URL Detection with Hugging-Face 🤗 "
   ]
  },
  {
   "cell_type": "markdown",
   "id": "da1e2911-30b4-4c8b-866a-c4d7a961a57b",
   "metadata": {},
   "source": [
    "This notebook demonstrates the fine-tuning of a BERT model for phishing URL detection, using a [dataset](https://huggingface.co/datasets/zakariajaadi/phishing-url-classification) I published on Hugging Face specifically curated for this task. The dataset comprises URLs labeled as negative (0, Safe) or positive (1, Phishing), enabling us to leverage BERT's pre-trained knowledge to effectively classify malicious URLs. We will then evaluate the model's performance in accurately distinguishing between phishing and legitimate urls"
   ]
  },
  {
   "cell_type": "markdown",
   "id": "6a45eff4-2045-406c-bb63-0a73c82ee7b6",
   "metadata": {},
   "source": [
    "# 1- Load Dataset "
   ]
  },
  {
   "cell_type": "code",
   "execution_count": 41,
   "id": "a5536f7c-6b56-44ba-8d10-205776fd120f",
   "metadata": {},
   "outputs": [],
   "source": [
    "from datasets import load_dataset\n",
    "from transformers import AutoTokenizer, AutoModelForSequenceClassification, TrainingArguments, Trainer\n",
    "from transformers import DataCollatorWithPadding\n",
    "import evaluate\n",
    "import numpy as np\n",
    "import pandas as pd"
   ]
  },
  {
   "cell_type": "code",
   "execution_count": 70,
   "id": "e51d72cb-696f-4d58-b166-678a5f277749",
   "metadata": {},
   "outputs": [],
   "source": [
    "dataset_dict = load_dataset(\"zakariajaadi/phishing-url-classification\")"
   ]
  },
  {
   "cell_type": "markdown",
   "id": "413cf05b-bee7-43e6-8791-6c110543759c",
   "metadata": {},
   "source": [
    "**Plot Class Distirbution**"
   ]
  },
  {
   "cell_type": "code",
   "execution_count": 86,
   "id": "cc2a4d4d-e329-43ef-becb-259fc4c96cba",
   "metadata": {},
   "outputs": [
    {
     "data": {
      "image/png": "[encoded data removed]",
      "text/plain": [
       "<Figure size 1200x500 with 1 Axes>"
      ]
     },
     "metadata": {},
     "output_type": "display_data"
    }
   ],
   "source": [
    "import pandas as pd\n",
    "import matplotlib.pyplot as plt\n",
    "\n",
    "# Convert the train dataset to a pandas DataFrame\n",
    "train_df = pd.DataFrame(dataset_dict[\"train\"])\n",
    "\n",
    "# Count the occurrences of each class label\n",
    "label_counts = train_df['labels'].value_counts()\n",
    "\n",
    "# Plot the class distribution\n",
    "plt.figure(figsize=(12, 5))\n",
    "label_counts.plot(kind='bar', color=['blue', 'crimson'])\n",
    "plt.xlabel(\"Class Labels\")\n",
    "plt.ylabel(\"Count\")\n",
    "plt.title(\"Class Distribution for Training Set\")\n",
    "plt.xticks(ticks=[0, 1], labels=[\"Safe\", \"Phishing\"], rotation=0)\n",
    "plt.grid(axis=\"y\", alpha=0.7)\n",
    "\n",
    "\n",
    "plt.show()"
   ]
  },
  {
   "cell_type": "markdown",
   "id": "79801eee-86d6-4d86-b817-2d95b17b6c55",
   "metadata": {},
   "source": [
    "The dataset is balanced "
   ]
  },
  {
   "cell_type": "markdown",
   "id": "c5edf318-8f80-4783-b711-ba7b764be5ca",
   "metadata": {},
   "source": [
    "# 2- Load BERT's model and tokenizer"
   ]
  },
  {
   "cell_type": "code",
   "execution_count": 5,
   "id": "731dbfd2-9c47-4f91-8842-f553352726db",
   "metadata": {},
   "outputs": [],
   "source": [
    "#BERT Model \n",
    "model_checkpoint = \"google-bert/bert-base-uncased\""
   ]
  },
  {
   "cell_type": "markdown",
   "id": "97c9ea68-30c8-49b4-8a76-c95adc347928",
   "metadata": {},
   "source": [
    "**Load tokenizer and tokenize dataset**"
   ]
  },
  {
   "cell_type": "code",
   "execution_count": 6,
   "id": "747c1b99-8884-4a88-89ff-093a691c2525",
   "metadata": {},
   "outputs": [],
   "source": [
    "# Load bert tokenizer\n",
    "tokenizer = AutoTokenizer.from_pretrained(model_checkpoint)"
   ]
  },
  {
   "cell_type": "code",
   "execution_count": 7,
   "id": "cabf2d97-ea82-48fb-8027-356114105c52",
   "metadata": {},
   "outputs": [
    {
     "data": {
      "application/vnd.jupyter.widget-view+json": {
       "model_id": "815342a6323041209c0f2eb84f6b081c",
       "version_major": 2,
       "version_minor": 0
      },
      "text/plain": [
       "Map:   0%|          | 0/2100 [00:00<?, ? examples/s]"
      ]
     },
     "metadata": {},
     "output_type": "display_data"
    },
    {
     "data": {
      "application/vnd.jupyter.widget-view+json": {
       "model_id": "a0ecefd8cbf8431a8dfe36894cd32b08",
       "version_major": 2,
       "version_minor": 0
      },
      "text/plain": [
       "Map:   0%|          | 0/450 [00:00<?, ? examples/s]"
      ]
     },
     "metadata": {},
     "output_type": "display_data"
    },
    {
     "data": {
      "application/vnd.jupyter.widget-view+json": {
       "model_id": "0a92fd3f5e0a42278c7f58bf46c76c8c",
       "version_major": 2,
       "version_minor": 0
      },
      "text/plain": [
       "Map:   0%|          | 0/450 [00:00<?, ? examples/s]"
      ]
     },
     "metadata": {},
     "output_type": "display_data"
    }
   ],
   "source": [
    "# Tokenization function\n",
    "def tokenize_function(examples):\n",
    "    return tokenizer(examples[\"text\"], truncation=True)\n",
    "\n",
    "# Apply tokenization to the dataset\n",
    "tokenized_datasets = dataset_dict.map(tokenize_function, batched=True)"
   ]
  },
  {
   "cell_type": "markdown",
   "id": "91eb2851-daa4-41a4-ba44-0ea4c2d4df3a",
   "metadata": {},
   "source": [
    "**Load model with binary classification head** (110M params, 4 Bytes each, model size 440 MB)"
   ]
  },
  {
   "cell_type": "code",
   "execution_count": 9,
   "id": "0a6e1757-fb02-45ea-99c1-0aa396d2421a",
   "metadata": {},
   "outputs": [
    {
     "name": "stderr",
     "output_type": "stream",
     "text": [
      "Some weights of BertForSequenceClassification were not initialized from the model checkpoint at google-bert/bert-base-uncased and are newly initialized: ['classifier.bias', 'classifier.weight']\n",
      "You should probably TRAIN this model on a down-stream task to be able to use it for predictions and inference.\n"
     ]
    }
   ],
   "source": [
    "id2label = {0: \"Safe\", 1: \"Phishing\"}\n",
    "label2id = {\"Safe\": 0, \"Phishing\": 1}\n",
    "model = AutoModelForSequenceClassification.from_pretrained(model_checkpoint, \n",
    "                                                           num_labels=2, \n",
    "                                                           id2label=id2label, \n",
    "                                                           label2id=label2id,)"
   ]
  },
  {
   "cell_type": "markdown",
   "id": "cbb11d94-9c64-4972-b815-459c1640da85",
   "metadata": {},
   "source": [
    "**Freeze base model (BERT) parameters**"
   ]
  },
  {
   "cell_type": "code",
   "execution_count": 10,
   "id": "089d4de9-e3f8-4760-83e6-09ecc552e0a4",
   "metadata": {},
   "outputs": [],
   "source": [
    "for name, param in model.base_model.named_parameters():\n",
    "    param.requires_grad = False\n",
    "\n",
    "for name, param in model.base_model.named_parameters():\n",
    "    if \"pooler\" in name:\n",
    "        param.requires_grad = True"
   ]
  },
  {
   "cell_type": "markdown",
   "id": "6a1e2a20-a0b6-480c-b9cb-e0a2af288950",
   "metadata": {},
   "source": [
    "**Define compute_metrics function to use for training**"
   ]
  },
  {
   "cell_type": "code",
   "execution_count": 12,
   "id": "551c5220-acce-4237-8f60-ba146b1c5e8d",
   "metadata": {},
   "outputs": [
    {
     "data": {
      "application/vnd.jupyter.widget-view+json": {
       "model_id": "e5f04a4670864b77b08cbcc3576b564b",
       "version_major": 2,
       "version_minor": 0
      },
      "text/plain": [
       "Downloading builder script:   0%|          | 0.00/9.54k [00:00<?, ?B/s]"
      ]
     },
     "metadata": {},
     "output_type": "display_data"
    }
   ],
   "source": [
    "# load metrics\n",
    "accuracy = evaluate.load(\"accuracy\")\n",
    "auc_score = evaluate.load(\"roc_auc\")\n",
    "\n",
    "#Define comp\n",
    "def compute_metrics(eval_pred):\n",
    "   \n",
    "    # Get predictions (logits, actual labels)\n",
    "    predictions, labels = eval_pred\n",
    "    \n",
    "    # apply softmax to get probabilities\n",
    "    probabilities = np.exp(predictions) / np.exp(predictions).sum(-1, keepdims=True)\n",
    "    \n",
    "    # Sse probabilities of the positive class for ROC AUC\n",
    "    positive_class_probs = probabilities[:, 1]\n",
    "    \n",
    "    # compute auc\n",
    "    auc =auc_score.compute(prediction_scores=positive_class_probs,references=labels)['roc_auc']\n",
    "    auc= np.round(auc,3)\n",
    "    \n",
    "    # predict most probable class\n",
    "    predicted_classes = np.argmax(predictions, axis=1)\n",
    "   \n",
    "    # compute accuracy\n",
    "    acc = accuracy.compute(predictions=predicted_classes,references=labels)['accuracy']\n",
    "    acc=np.round(acc,3)\n",
    "    \n",
    "    return {\"Accuracy\": acc, \"AUC\": auc}"
   ]
  },
  {
   "cell_type": "code",
   "execution_count": 8,
   "id": "14b2e48c-85e7-410e-8938-3a49a618da57",
   "metadata": {},
   "outputs": [],
   "source": [
    "# create data collator\n",
    "data_collator = DataCollatorWithPadding(tokenizer=tokenizer)"
   ]
  },
  {
   "cell_type": "markdown",
   "id": "ef78864d-1071-48fb-98b5-1b70e0105e0b",
   "metadata": {},
   "source": [
    "# 3- Fine Tune the Model"
   ]
  },
  {
   "cell_type": "code",
   "execution_count": 28,
   "id": "db5aadb2-53dc-4b7b-a392-235c6ee4230b",
   "metadata": {},
   "outputs": [],
   "source": [
    "# hyperparameters\n",
    "lr = 2e-4\n",
    "batch_size = 8\n",
    "num_epochs = 10\n",
    "\n",
    "training_args = TrainingArguments(\n",
    "    output_dir=\"bert-phishing-classifier_teacher\",\n",
    "    learning_rate=lr,\n",
    "    per_device_train_batch_size=batch_size,\n",
    "    per_device_eval_batch_size=batch_size,\n",
    "    num_train_epochs=num_epochs,\n",
    "    logging_strategy=\"epoch\",\n",
    "    eval_strategy=\"epoch\",\n",
    "    save_strategy=\"epoch\",\n",
    "    load_best_model_at_end=True,\n",
    ")"
   ]
  },
  {
   "cell_type": "code",
   "execution_count": 29,
   "id": "eefef6d5-5856-47b8-bfda-59755d17f66d",
   "metadata": {},
   "outputs": [
    {
     "data": {
      "text/html": [
       "\n",
       "    <div>\n",
       "      \n",
       "      <progress value='2630' max='2630' style='width:300px; height:20px; vertical-align: middle;'></progress>\n",
       "      [2630/2630 49:46, Epoch 10/10]\n",
       "    </div>\n",
       "    <table border=\"1\" class=\"dataframe\">\n",
       "  <thead>\n",
       " <tr style=\"text-align: left;\">\n",
       "      <th>Epoch</th>\n",
       "      <th>Training Loss</th>\n",
       "      <th>Validation Loss</th>\n",
       "      <th>Accuracy</th>\n",
       "      <th>Auc</th>\n",
       "    </tr>\n",
       "  </thead>\n",
       "  <tbody>\n",
       "    <tr>\n",
       "      <td>1</td>\n",
       "      <td>0.290600</td>\n",
       "      <td>0.282932</td>\n",
       "      <td>0.871000</td>\n",
       "      <td>0.953000</td>\n",
       "    </tr>\n",
       "    <tr>\n",
       "      <td>2</td>\n",
       "      <td>0.319000</td>\n",
       "      <td>0.332050</td>\n",
       "      <td>0.862000</td>\n",
       "      <td>0.956000</td>\n",
       "    </tr>\n",
       "    <tr>\n",
       "      <td>3</td>\n",
       "      <td>0.315000</td>\n",
       "      <td>0.297930</td>\n",
       "      <td>0.873000</td>\n",
       "      <td>0.951000</td>\n",
       "    </tr>\n",
       "    <tr>\n",
       "      <td>4</td>\n",
       "      <td>0.306100</td>\n",
       "      <td>0.441098</td>\n",
       "      <td>0.833000</td>\n",
       "      <td>0.954000</td>\n",
       "    </tr>\n",
       "    <tr>\n",
       "      <td>5</td>\n",
       "      <td>0.318100</td>\n",
       "      <td>0.283394</td>\n",
       "      <td>0.884000</td>\n",
       "      <td>0.955000</td>\n",
       "    </tr>\n",
       "    <tr>\n",
       "      <td>6</td>\n",
       "      <td>0.326500</td>\n",
       "      <td>0.265922</td>\n",
       "      <td>0.880000</td>\n",
       "      <td>0.958000</td>\n",
       "    </tr>\n",
       "    <tr>\n",
       "      <td>7</td>\n",
       "      <td>0.298600</td>\n",
       "      <td>0.287084</td>\n",
       "      <td>0.876000</td>\n",
       "      <td>0.955000</td>\n",
       "    </tr>\n",
       "    <tr>\n",
       "      <td>8</td>\n",
       "      <td>0.288700</td>\n",
       "      <td>0.277855</td>\n",
       "      <td>0.878000</td>\n",
       "      <td>0.956000</td>\n",
       "    </tr>\n",
       "    <tr>\n",
       "      <td>9</td>\n",
       "      <td>0.311000</td>\n",
       "      <td>0.270889</td>\n",
       "      <td>0.882000</td>\n",
       "      <td>0.956000</td>\n",
       "    </tr>\n",
       "    <tr>\n",
       "      <td>10</td>\n",
       "      <td>0.298400</td>\n",
       "      <td>0.285369</td>\n",
       "      <td>0.876000</td>\n",
       "      <td>0.957000</td>\n",
       "    </tr>\n",
       "  </tbody>\n",
       "</table><p>"
      ],
      "text/plain": [
       "<IPython.core.display.HTML object>"
      ]
     },
     "metadata": {},
     "output_type": "display_data"
    },
    {
     "data": {
      "text/plain": [
       "TrainOutput(global_step=2630, training_loss=0.3072181208505377, metrics={'train_runtime': 2988.2312, 'train_samples_per_second': 7.028, 'train_steps_per_second': 0.88, 'total_flos': 706603239165360.0, 'train_loss': 0.3072181208505377, 'epoch': 10.0})"
      ]
     },
     "execution_count": 29,
     "metadata": {},
     "output_type": "execute_result"
    }
   ],
   "source": [
    "trainer = Trainer(\n",
    "    model=model,\n",
    "    args=training_args,\n",
    "    train_dataset=tokenized_datasets[\"train\"],\n",
    "    eval_dataset=tokenized_datasets[\"test\"],\n",
    "    tokenizer=tokenizer,\n",
    "    data_collator=data_collator,\n",
    "    compute_metrics=compute_metrics,\n",
    ")\n",
    "trainer.train()"
   ]
  },
  {
   "cell_type": "markdown",
   "id": "17df21c3-9e90-412b-a588-a2d5f98418f3",
   "metadata": {},
   "source": [
    "**Plot Loss train vs validation**"
   ]
  },
  {
   "cell_type": "code",
   "execution_count": 33,
   "id": "1d5c9fa4-9cf9-4c02-850e-44161275f9fa",
   "metadata": {},
   "outputs": [
    {
     "data": {
      "image/png": "[encoded data removed]",
      "text/plain": [
       "<Figure size 640x480 with 1 Axes>"
      ]
     },
     "metadata": {},
     "output_type": "display_data"
    }
   ],
   "source": [
    "import matplotlib.pyplot as plt\n",
    "\n",
    "# Extract logs from trainer\n",
    "logs = trainer.state.log_history\n",
    "\n",
    "# Initialize lists to store losses and epochs\n",
    "train_losses = []\n",
    "val_losses = []\n",
    "epochs = []\n",
    "\n",
    "# Iterate through logs and extract training and validation losses\n",
    "for log in logs:\n",
    "    if 'loss' in log:  # Training loss\n",
    "        train_losses.append(log['loss'])\n",
    "        epochs.append(log['epoch'])\n",
    "    if 'eval_loss' in log:  # Validation loss\n",
    "        val_losses.append(log['eval_loss'])\n",
    "\n",
    "# Plot training and validation losses\n",
    "plt.plot(epochs, train_losses, label='Training Loss')\n",
    "plt.plot(epochs, val_losses, label='Validation Loss')\n",
    "plt.xlabel('Epoch')\n",
    "plt.ylabel('Loss')\n",
    "plt.title('Training vs Validation Loss')\n",
    "plt.legend()\n",
    "plt.grid()\n",
    "plt.show()"
   ]
  },
  {
   "cell_type": "markdown",
   "id": "7db5fc48-90be-4b08-8698-cd23f5ba0f0a",
   "metadata": {},
   "source": [
    "> * <span style=\"color:green\"> **Good learning overall !:** </span> The training loss decreases steadily with some minor fluctuations, indicating that the model is learning effectively, though not perfectly smoothly.\n",
    "> *  The peak in validation loss at epoch 4 suggests a temporary phase of instability, which could be due to overfitting, learning rate adjustments, or even dataset noise. However, the validation loss stabilizes afterward, showing that the model regains its generalization ability."
   ]
  },
  {
   "cell_type": "markdown",
   "id": "60726fd5-5181-4e12-b5db-27fc1957097a",
   "metadata": {},
   "source": [
    "# 4 - Evaluate model on the test data"
   ]
  },
  {
   "cell_type": "code",
   "execution_count": 65,
   "id": "814b51bb-b8dc-41f7-aa96-651e4b3b0889",
   "metadata": {},
   "outputs": [
    {
     "data": {
      "text/html": [],
      "text/plain": [
       "<IPython.core.display.HTML object>"
      ]
     },
     "metadata": {},
     "output_type": "display_data"
    },
    {
     "name": "stdout",
     "output_type": "stream",
     "text": [
      "{'Accuracy': 0.88, 'AUC': 0.958}\n"
     ]
    }
   ],
   "source": [
    "# Make predictions for test dataset\n",
    "predictions = trainer.predict(tokenized_datasets[\"test\"])\n",
    "\n",
    "# Extract the logits and labels from the predictions\n",
    "test_y_logits = predictions.predictions\n",
    "test_y_actual = predictions.label_ids\n",
    "\n",
    "# Use your compute_metrics function\n",
    "metrics = compute_metrics((test_y_logits, test_y_actual))\n",
    "print(metrics)"
   ]
  },
  {
   "cell_type": "markdown",
   "id": "5aa56aa4-36c4-47dc-aed0-7842e9ee68be",
   "metadata": {},
   "source": [
    "> <span style=\"color:green\">**Strong performance 🎉**: </span> **The fine-tuned model shows a good accuracy and a strong descriminative power** "
   ]
  },
  {
   "cell_type": "markdown",
   "id": "d4cea6ed-ba02-468e-9c98-d567fea5d923",
   "metadata": {},
   "source": [
    "# Conclusion"
   ]
  },
  {
   "cell_type": "markdown",
   "id": "50961348-6609-4f38-9c1f-c94e7b1a7932",
   "metadata": {},
   "source": [
    "> The **BERT-based** phishing URL detection model, fine-tuned on just 2,100 URLs, achieved 88% accuracy and an AUC of 0.958, demonstrating impressive performance for a relatively small dataset. This suggests that BERT is highly effective in identifying phishing URLs, and the model's performance could further improve with more training data."
   ]
  }
 ],
 "metadata": {
  "kernelspec": {
   "display_name": "Python 3 (ipykernel)",
   "language": "python",
   "name": "python3"
  },
  "language_info": {
   "codemirror_mode": {
    "name": "ipython",
    "version": 3
   },
   "file_extension": ".py",
   "mimetype": "text/x-python",
   "name": "python",
   "nbconvert_exporter": "python",
   "pygments_lexer": "ipython3",
   "version": "3.11.11"
  }
 },
 "nbformat": 4,
 "nbformat_minor": 5
}
