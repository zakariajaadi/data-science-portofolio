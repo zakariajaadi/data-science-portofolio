{
 "cells": [
  {
   "cell_type": "markdown",
   "id": "64f65c8e-26ea-4a85-a75f-67ff4eaa3a12",
   "metadata": {},
   "source": [
    "# 🏆 Detecting Data Drift with Deepchecks – Wine Quality Dataset\n",
    "\n",
    "## Introduction  \n",
    "In machine learning, **data drift** occurs when the statistical properties of input data change over time, potentially leading to model degradation. Identifying and addressing drift is crucial for maintaining model performance in production.\n",
    "\n",
    "In this notebook, we will:\n",
    "- Explore **data drift detection** using [Deepchecks](https://deepchecks.com/).\n",
    "- Use the **Wine Quality (Red) dataset** from the UCI Machine Learning Repository.\n",
    "- Fit a RandomRegressor model \n",
    "- Simulate drift by altering feature distributions.\n",
    "- Run Deepchecks to detect and analyze the drift.\n",
    "\n",
    "Let's get started! 🚀"
   ]
  },
  {
   "cell_type": "markdown",
   "id": "48a6dde4-8596-44d2-ab6f-62deaa857493",
   "metadata": {},
   "source": [
    "## 1- Read data"
   ]
  },
  {
   "cell_type": "code",
   "execution_count": 1,
   "id": "837e1724-e28f-4a5c-9f4f-0b7c69424239",
   "metadata": {},
   "outputs": [],
   "source": [
    "import pandas as pd\n",
    "from sklearn.ensemble import RandomForestRegressor\n",
    "from sklearn.model_selection import train_test_split\n",
    "# Deepchecks imports for various drift detection checks\n",
    "from deepchecks.tabular.checks import FeatureDrift, PredictionDrift, WholeDatasetDrift, MultivariateDrift\n",
    "# Deepchecks Dataset class to wrap the data for drift detection\n",
    "from deepchecks.tabular import Dataset"
   ]
  },
  {
   "cell_type": "code",
   "execution_count": 2,
   "id": "b688efba-4fd9-49f3-9e8c-5a5ae2528cd4",
   "metadata": {},
   "outputs": [],
   "source": [
    "# Read the wine-quality csv file from the URL\n",
    "csv_url = \"http://archive.ics.uci.edu/ml/machine-learning-databases/wine-quality/winequality-red.csv\"\n",
    "data = pd.read_csv(csv_url,sep=\";\")"
   ]
  },
  {
   "cell_type": "code",
   "execution_count": 3,
   "id": "1fbf4132-52bd-448a-b004-3a3b4a986f6a",
   "metadata": {},
   "outputs": [
    {
     "data": {
      "text/html": [
       "<div>\n",
       "<style scoped>\n",
       "    .dataframe tbody tr th:only-of-type {\n",
       "        vertical-align: middle;\n",
       "    }\n",
       "\n",
       "    .dataframe tbody tr th {\n",
       "        vertical-align: top;\n",
       "    }\n",
       "\n",
       "    .dataframe thead th {\n",
       "        text-align: right;\n",
       "    }\n",
       "</style>\n",
       "<table border=\"1\" class=\"dataframe\">\n",
       "  <thead>\n",
       "    <tr style=\"text-align: right;\">\n",
       "      <th></th>\n",
       "      <th>fixed acidity</th>\n",
       "      <th>volatile acidity</th>\n",
       "      <th>citric acid</th>\n",
       "      <th>residual sugar</th>\n",
       "      <th>chlorides</th>\n",
       "      <th>free sulfur dioxide</th>\n",
       "      <th>total sulfur dioxide</th>\n",
       "      <th>density</th>\n",
       "      <th>pH</th>\n",
       "      <th>sulphates</th>\n",
       "      <th>alcohol</th>\n",
       "      <th>quality</th>\n",
       "    </tr>\n",
       "  </thead>\n",
       "  <tbody>\n",
       "    <tr>\n",
       "      <th>0</th>\n",
       "      <td>7.4</td>\n",
       "      <td>0.70</td>\n",
       "      <td>0.00</td>\n",
       "      <td>1.9</td>\n",
       "      <td>0.076</td>\n",
       "      <td>11.0</td>\n",
       "      <td>34.0</td>\n",
       "      <td>0.9978</td>\n",
       "      <td>3.51</td>\n",
       "      <td>0.56</td>\n",
       "      <td>9.4</td>\n",
       "      <td>5</td>\n",
       "    </tr>\n",
       "    <tr>\n",
       "      <th>1</th>\n",
       "      <td>7.8</td>\n",
       "      <td>0.88</td>\n",
       "      <td>0.00</td>\n",
       "      <td>2.6</td>\n",
       "      <td>0.098</td>\n",
       "      <td>25.0</td>\n",
       "      <td>67.0</td>\n",
       "      <td>0.9968</td>\n",
       "      <td>3.20</td>\n",
       "      <td>0.68</td>\n",
       "      <td>9.8</td>\n",
       "      <td>5</td>\n",
       "    </tr>\n",
       "    <tr>\n",
       "      <th>2</th>\n",
       "      <td>7.8</td>\n",
       "      <td>0.76</td>\n",
       "      <td>0.04</td>\n",
       "      <td>2.3</td>\n",
       "      <td>0.092</td>\n",
       "      <td>15.0</td>\n",
       "      <td>54.0</td>\n",
       "      <td>0.9970</td>\n",
       "      <td>3.26</td>\n",
       "      <td>0.65</td>\n",
       "      <td>9.8</td>\n",
       "      <td>5</td>\n",
       "    </tr>\n",
       "    <tr>\n",
       "      <th>3</th>\n",
       "      <td>11.2</td>\n",
       "      <td>0.28</td>\n",
       "      <td>0.56</td>\n",
       "      <td>1.9</td>\n",
       "      <td>0.075</td>\n",
       "      <td>17.0</td>\n",
       "      <td>60.0</td>\n",
       "      <td>0.9980</td>\n",
       "      <td>3.16</td>\n",
       "      <td>0.58</td>\n",
       "      <td>9.8</td>\n",
       "      <td>6</td>\n",
       "    </tr>\n",
       "    <tr>\n",
       "      <th>4</th>\n",
       "      <td>7.4</td>\n",
       "      <td>0.70</td>\n",
       "      <td>0.00</td>\n",
       "      <td>1.9</td>\n",
       "      <td>0.076</td>\n",
       "      <td>11.0</td>\n",
       "      <td>34.0</td>\n",
       "      <td>0.9978</td>\n",
       "      <td>3.51</td>\n",
       "      <td>0.56</td>\n",
       "      <td>9.4</td>\n",
       "      <td>5</td>\n",
       "    </tr>\n",
       "  </tbody>\n",
       "</table>\n",
       "</div>"
      ],
      "text/plain": [
       "   fixed acidity  volatile acidity  citric acid  residual sugar  chlorides  \\\n",
       "0            7.4              0.70         0.00             1.9      0.076   \n",
       "1            7.8              0.88         0.00             2.6      0.098   \n",
       "2            7.8              0.76         0.04             2.3      0.092   \n",
       "3           11.2              0.28         0.56             1.9      0.075   \n",
       "4            7.4              0.70         0.00             1.9      0.076   \n",
       "\n",
       "   free sulfur dioxide  total sulfur dioxide  density    pH  sulphates  \\\n",
       "0                 11.0                  34.0   0.9978  3.51       0.56   \n",
       "1                 25.0                  67.0   0.9968  3.20       0.68   \n",
       "2                 15.0                  54.0   0.9970  3.26       0.65   \n",
       "3                 17.0                  60.0   0.9980  3.16       0.58   \n",
       "4                 11.0                  34.0   0.9978  3.51       0.56   \n",
       "\n",
       "   alcohol  quality  \n",
       "0      9.4        5  \n",
       "1      9.8        5  \n",
       "2      9.8        5  \n",
       "3      9.8        6  \n",
       "4      9.4        5  "
      ]
     },
     "execution_count": 3,
     "metadata": {},
     "output_type": "execute_result"
    }
   ],
   "source": [
    "data.head()"
   ]
  },
  {
   "cell_type": "markdown",
   "id": "db23b3a4-31de-46b7-82e5-5df9919c269b",
   "metadata": {},
   "source": [
    "## 2- Simulating Production Data for Drift Detection  \n",
    "\n",
    "In drift detection, we compare two datasets:  \n",
    "\n",
    "- **📌 Reference Data (Historical Data)** → Set using the **training dataset**. It represents past, stable data that the model was trained on.  \n",
    "- **🚀 Live/Batch Production Data** → Simulated in this notebook using the **test dataset**. This represents new, incoming data from a live production system (real-time) or batch inference (offline processing).  \n",
    "\n",
    "💡 **Why does this matter?**  \n",
    "\n",
    "If **production data** differs significantly from **reference data**, the model may experience **data drift**, which can degrade performance. Identifying this drift early is crucial for maintaining reliable predictions.\n"
   ]
  },
  {
   "cell_type": "code",
   "execution_count": 4,
   "id": "72ece522-dc34-4320-b32e-727d2361a372",
   "metadata": {},
   "outputs": [],
   "source": [
    "# Split the data into training and test sets. (0.75, 0.25) split.\n",
    "train, test = train_test_split(data,test_size=0.25,random_state=42)\n",
    "train_x=train.drop([\"quality\"],axis=1)\n",
    "test_x=test.drop([\"quality\"],axis=1)\n",
    "train_y=train[[\"quality\"]]\n",
    "test_y=test[[\"quality\"]]"
   ]
  },
  {
   "cell_type": "code",
   "execution_count": 5,
   "id": "24a6f132-83fd-414c-9ea6-bd4f4381f0eb",
   "metadata": {},
   "outputs": [
    {
     "data": {
      "text/html": [
       "<style>#sk-container-id-1 {color: black;background-color: white;}#sk-container-id-1 pre{padding: 0;}#sk-container-id-1 div.sk-toggleable {background-color: white;}#sk-container-id-1 label.sk-toggleable__label {cursor: pointer;display: block;width: 100%;margin-bottom: 0;padding: 0.3em;box-sizing: border-box;text-align: center;}#sk-container-id-1 label.sk-toggleable__label-arrow:before {content: \"▸\";float: left;margin-right: 0.25em;color: #696969;}#sk-container-id-1 label.sk-toggleable__label-arrow:hover:before {color: black;}#sk-container-id-1 div.sk-estimator:hover label.sk-toggleable__label-arrow:before {color: black;}#sk-container-id-1 div.sk-toggleable__content {max-height: 0;max-width: 0;overflow: hidden;text-align: left;background-color: #f0f8ff;}#sk-container-id-1 div.sk-toggleable__content pre {margin: 0.2em;color: black;border-radius: 0.25em;background-color: #f0f8ff;}#sk-container-id-1 input.sk-toggleable__control:checked~div.sk-toggleable__content {max-height: 200px;max-width: 100%;overflow: auto;}#sk-container-id-1 input.sk-toggleable__control:checked~label.sk-toggleable__label-arrow:before {content: \"▾\";}#sk-container-id-1 div.sk-estimator input.sk-toggleable__control:checked~label.sk-toggleable__label {background-color: #d4ebff;}#sk-container-id-1 div.sk-label input.sk-toggleable__control:checked~label.sk-toggleable__label {background-color: #d4ebff;}#sk-container-id-1 input.sk-hidden--visually {border: 0;clip: rect(1px 1px 1px 1px);clip: rect(1px, 1px, 1px, 1px);height: 1px;margin: -1px;overflow: hidden;padding: 0;position: absolute;width: 1px;}#sk-container-id-1 div.sk-estimator {font-family: monospace;background-color: #f0f8ff;border: 1px dotted black;border-radius: 0.25em;box-sizing: border-box;margin-bottom: 0.5em;}#sk-container-id-1 div.sk-estimator:hover {background-color: #d4ebff;}#sk-container-id-1 div.sk-parallel-item::after {content: \"\";width: 100%;border-bottom: 1px solid gray;flex-grow: 1;}#sk-container-id-1 div.sk-label:hover label.sk-toggleable__label {background-color: #d4ebff;}#sk-container-id-1 div.sk-serial::before {content: \"\";position: absolute;border-left: 1px solid gray;box-sizing: border-box;top: 0;bottom: 0;left: 50%;z-index: 0;}#sk-container-id-1 div.sk-serial {display: flex;flex-direction: column;align-items: center;background-color: white;padding-right: 0.2em;padding-left: 0.2em;position: relative;}#sk-container-id-1 div.sk-item {position: relative;z-index: 1;}#sk-container-id-1 div.sk-parallel {display: flex;align-items: stretch;justify-content: center;background-color: white;position: relative;}#sk-container-id-1 div.sk-item::before, #sk-container-id-1 div.sk-parallel-item::before {content: \"\";position: absolute;border-left: 1px solid gray;box-sizing: border-box;top: 0;bottom: 0;left: 50%;z-index: -1;}#sk-container-id-1 div.sk-parallel-item {display: flex;flex-direction: column;z-index: 1;position: relative;background-color: white;}#sk-container-id-1 div.sk-parallel-item:first-child::after {align-self: flex-end;width: 50%;}#sk-container-id-1 div.sk-parallel-item:last-child::after {align-self: flex-start;width: 50%;}#sk-container-id-1 div.sk-parallel-item:only-child::after {width: 0;}#sk-container-id-1 div.sk-dashed-wrapped {border: 1px dashed gray;margin: 0 0.4em 0.5em 0.4em;box-sizing: border-box;padding-bottom: 0.4em;background-color: white;}#sk-container-id-1 div.sk-label label {font-family: monospace;font-weight: bold;display: inline-block;line-height: 1.2em;}#sk-container-id-1 div.sk-label-container {text-align: center;}#sk-container-id-1 div.sk-container {/* jupyter's `normalize.less` sets `[hidden] { display: none; }` but bootstrap.min.css set `[hidden] { display: none !important; }` so we also need the `!important` here to be able to override the default hidden behavior on the sphinx rendered scikit-learn.org. See: https://github.com/scikit-learn/scikit-learn/issues/21755 */display: inline-block !important;position: relative;}#sk-container-id-1 div.sk-text-repr-fallback {display: none;}</style><div id=\"sk-container-id-1\" class=\"sk-top-container\"><div class=\"sk-text-repr-fallback\"><pre>RandomForestRegressor()</pre><b>In a Jupyter environment, please rerun this cell to show the HTML representation or trust the notebook. <br />On GitHub, the HTML representation is unable to render, please try loading this page with nbviewer.org.</b></div><div class=\"sk-container\" hidden><div class=\"sk-item\"><div class=\"sk-estimator sk-toggleable\"><input class=\"sk-toggleable__control sk-hidden--visually\" id=\"sk-estimator-id-1\" type=\"checkbox\" checked><label for=\"sk-estimator-id-1\" class=\"sk-toggleable__label sk-toggleable__label-arrow\">RandomForestRegressor</label><div class=\"sk-toggleable__content\"><pre>RandomForestRegressor()</pre></div></div></div></div></div>"
      ],
      "text/plain": [
       "RandomForestRegressor()"
      ]
     },
     "execution_count": 5,
     "metadata": {},
     "output_type": "execute_result"
    }
   ],
   "source": [
    "# Create/fit model\n",
    "lr=RandomForestRegressor()\n",
    "lr.fit(train_x,train_y.values.flatten())"
   ]
  },
  {
   "cell_type": "markdown",
   "id": "c1736c49-86b5-4beb-9a81-3bef93616bcb",
   "metadata": {},
   "source": [
    "## 3- Inducing Synthetic Drift\n",
    "\n",
    "In this step, we will artificially induce drift in the **volatile acidity** feature of the test dataset, multiplying **volatile acidity** feature by **1.5**"
   ]
  },
  {
   "cell_type": "code",
   "execution_count": 6,
   "id": "322568e1-8b88-4808-89ab-263628701bb0",
   "metadata": {},
   "outputs": [],
   "source": [
    "# Induce synthetic drift \n",
    "test_x['volatile acidity']=test_x['volatile acidity']*1.5"
   ]
  },
  {
   "cell_type": "markdown",
   "id": "7cb4389e-b352-4009-8132-13ac89dbeaf0",
   "metadata": {},
   "source": [
    "## 4- Drift"
   ]
  },
  {
   "cell_type": "code",
   "execution_count": 7,
   "id": "8ca0390f-1340-4892-8db9-2a1fae860be9",
   "metadata": {},
   "outputs": [],
   "source": [
    "# Wrap data in deepchecks datasets (no categrical features)\n",
    "train_dataset=Dataset(df=train_x,cat_features=[])\n",
    "test_dataset=Dataset(df=test_x,cat_features=[])"
   ]
  },
  {
   "cell_type": "markdown",
   "id": "348f08d7-da19-4741-bc46-01945ed43d35",
   "metadata": {},
   "source": [
    "### Feature Drift"
   ]
  },
  {
   "cell_type": "code",
   "execution_count": 8,
   "id": "d53e506e-33cb-4dfe-af90-822953a541d6",
   "metadata": {
    "scrolled": true
   },
   "outputs": [
    {
     "data": {
      "application/vnd.jupyter.widget-view+json": {
       "model_id": "0fca0ae7cb2c4108af2c1af305ac3789",
       "version_major": 2,
       "version_minor": 0
      },
      "text/plain": [
       "VBox(children=(HTML(value='<h4><b>Feature Drift</b></h4>'), HTML(value='<p>    Calculate drift between train d…"
      ]
     },
     "metadata": {},
     "output_type": "display_data"
    }
   ],
   "source": [
    "#features drift\n",
    "check = FeatureDrift()\n",
    "#minmum allowed drift\n",
    "check.add_condition_drift_score_less_than(max_allowed_numeric_score=0.2)\n",
    "#Run (Model is optional, used to show feature importance on top of drift score)\n",
    "result = check.run(train_dataset=train_dataset, test_dataset=test_dataset,model=lr)\n",
    "result"
   ]
  },
  {
   "cell_type": "markdown",
   "id": "4d334b5b-a93d-4b39-aebb-acd7c906ea68",
   "metadata": {},
   "source": [
    "🚨 Induced Drift successfully Detected 🚨 "
   ]
  },
  {
   "cell_type": "markdown",
   "id": "def61b1c-e4a7-4b21-bb80-a70089a8c8e5",
   "metadata": {},
   "source": [
    "### Dataset Drift"
   ]
  },
  {
   "cell_type": "code",
   "execution_count": 9,
   "id": "f77c5a7c-ac86-47ce-8344-a624ad2cd95b",
   "metadata": {},
   "outputs": [
    {
     "data": {
      "application/vnd.jupyter.widget-view+json": {
       "model_id": "f041ee501425449ba3301eb97af61421",
       "version_major": 2,
       "version_minor": 0
      },
      "text/plain": [
       "VBox(children=(HTML(value='<h4><b>Multivariate Drift</b></h4>'), HTML(value='<p>    Calculate drift between th…"
      ]
     },
     "metadata": {},
     "output_type": "display_data"
    }
   ],
   "source": [
    "dataset_drift_check = MultivariateDrift()\n",
    "dataset_drift_check.add_condition_overall_drift_value_less_than(max_drift_value=0.2)\n",
    "ds_drift_result = dataset_drift_check.run(train_dataset=train_dataset, test_dataset=test_dataset)\n",
    "ds_drift_result"
   ]
  },
  {
   "cell_type": "markdown",
   "id": "f8adb8b2-b3b2-4c59-b691-85075300fbf9",
   "metadata": {},
   "source": [
    "🚨 Induced Drift successfully detected again 🚨 "
   ]
  },
  {
   "cell_type": "code",
   "execution_count": 10,
   "id": "3e910ae7-2af9-4c15-8df2-f6c34e560646",
   "metadata": {},
   "outputs": [],
   "source": [
    "# prediction drift "
   ]
  },
  {
   "cell_type": "code",
   "execution_count": 11,
   "id": "18e8261a-667c-4873-95f3-d2cb69d63d40",
   "metadata": {
    "scrolled": true
   },
   "outputs": [
    {
     "data": {
      "application/vnd.jupyter.widget-view+json": {
       "model_id": "348cab63a41d4e86a95d89b441ac01da",
       "version_major": 2,
       "version_minor": 0
      },
      "text/plain": [
       "VBox(children=(HTML(value='<h4><b>Prediction Drift</b></h4>'), HTML(value='<p>    Calculate prediction drift b…"
      ]
     },
     "metadata": {},
     "output_type": "display_data"
    }
   ],
   "source": [
    "pred_drift_check = PredictionDrift()\n",
    "pred_drift_check.add_condition_drift_score_less_than(max_allowed_drift_score=0.2)\n",
    "#Run check (model is required)\n",
    "pred_drift_result = pred_drift_check.run(train_dataset,test_dataset,model=lr)\n",
    "pred_drift_result"
   ]
  },
  {
   "cell_type": "markdown",
   "id": "ccac7b87-57c0-4466-800f-9244372f8802",
   "metadata": {},
   "source": [
    "✅ No Drift as expected !"
   ]
  },
  {
   "cell_type": "markdown",
   "id": "55a3bf9a-bc41-408e-a1e8-9f79a487b4ee",
   "metadata": {},
   "source": [
    "## 🎉 Conclusion\n",
    "\n",
    "Deepchecks has proven to be a powerful tool for detecting and analyzing data drift. In this experiment, I introduced a synthetic drift in the volatile acidity feature, and Deepchecks successfully identified it through both feature drift and dataset drift. \n",
    "\n",
    "The tool provided clear, actionable insights, demonstrating its effectiveness in monitoring data integrity and ensuring model reliability over time.  Deepchecks' ability to detect such changes underscores its value as a critical component in the machine learning pipeline."
   ]
  },
  {
   "cell_type": "code",
   "execution_count": null,
   "id": "6a109cda-3a5d-45c9-951b-065a79f807d1",
   "metadata": {},
   "outputs": [],
   "source": []
  }
 ],
 "metadata": {
  "kernelspec": {
   "display_name": "Python 3 (ipykernel)",
   "language": "python",
   "name": "python3"
  },
  "language_info": {
   "codemirror_mode": {
    "name": "ipython",
    "version": 3
   },
   "file_extension": ".py",
   "mimetype": "text/x-python",
   "name": "python",
   "nbconvert_exporter": "python",
   "pygments_lexer": "ipython3",
   "version": "3.10.16"
  }
 },
 "nbformat": 4,
 "nbformat_minor": 5
}
