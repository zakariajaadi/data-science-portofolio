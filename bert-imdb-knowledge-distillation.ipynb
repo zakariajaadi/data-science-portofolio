{
  "metadata": {
    "kernelspec": {
      "name": "python3",
      "display_name": "Python 3",
      "language": "python"
    },
    "language_info": {
      "name": "python",
      "version": "3.10.12",
      "mimetype": "text/x-python",
      "codemirror_mode": {
        "name": "ipython",
        "version": 3
      },
      "pygments_lexer": "ipython3",
      "nbconvert_exporter": "python",
      "file_extension": ".py"
    },
    "colab": {
      "provenance": [],
      "gpuType": "T4"
    },
    "accelerator": "GPU",
    "widgets": {
      "application/vnd.jupyter.widget-state+json": {
        "1c988116ff0448cbbc086f532e3e6a8a": {
          "model_module": "@jupyter-widgets/controls",
          "model_name": "HBoxModel",
          "model_module_version": "1.5.0",
          "state": {
            "_dom_classes": [],
            "_model_module": "@jupyter-widgets/controls",
            "_model_module_version": "1.5.0",
            "_model_name": "HBoxModel",
            "_view_count": null,
            "_view_module": "@jupyter-widgets/controls",
            "_view_module_version": "1.5.0",
            "_view_name": "HBoxView",
            "box_style": "",
            "children": [
              "IPY_MODEL_7c317f0fa3004b89a2a818e22fd3265e",
              "IPY_MODEL_94e501393f7c4410930c9aef4978b236",
              "IPY_MODEL_6eeb68b1c4e24eb2a41f1eb777acf09a"
            ],
            "layout": "IPY_MODEL_2ca0af9e25844113bc6ae7d6c2b4fef3"
          }
        },
        "7c317f0fa3004b89a2a818e22fd3265e": {
          "model_module": "@jupyter-widgets/controls",
          "model_name": "HTMLModel",
          "model_module_version": "1.5.0",
          "state": {
            "_dom_classes": [],
            "_model_module": "@jupyter-widgets/controls",
            "_model_module_version": "1.5.0",
            "_model_name": "HTMLModel",
            "_view_count": null,
            "_view_module": "@jupyter-widgets/controls",
            "_view_module_version": "1.5.0",
            "_view_name": "HTMLView",
            "description": "",
            "description_tooltip": null,
            "layout": "IPY_MODEL_59bfff9abce4425a8090f53066c9bd33",
            "placeholder": "​",
            "style": "IPY_MODEL_62a19dd3e8994dce98ab5e1d67bbbc8c",
            "value": "config.json: 100%"
          }
        },
        "94e501393f7c4410930c9aef4978b236": {
          "model_module": "@jupyter-widgets/controls",
          "model_name": "FloatProgressModel",
          "model_module_version": "1.5.0",
          "state": {
            "_dom_classes": [],
            "_model_module": "@jupyter-widgets/controls",
            "_model_module_version": "1.5.0",
            "_model_name": "FloatProgressModel",
            "_view_count": null,
            "_view_module": "@jupyter-widgets/controls",
            "_view_module_version": "1.5.0",
            "_view_name": "ProgressView",
            "bar_style": "success",
            "description": "",
            "description_tooltip": null,
            "layout": "IPY_MODEL_cca5e0ad0cb54a9aa370a78cc7322952",
            "max": 511,
            "min": 0,
            "orientation": "horizontal",
            "style": "IPY_MODEL_7e8acedd5a494007b676cdaa9be4ee71",
            "value": 511
          }
        },
        "6eeb68b1c4e24eb2a41f1eb777acf09a": {
          "model_module": "@jupyter-widgets/controls",
          "model_name": "HTMLModel",
          "model_module_version": "1.5.0",
          "state": {
            "_dom_classes": [],
            "_model_module": "@jupyter-widgets/controls",
            "_model_module_version": "1.5.0",
            "_model_name": "HTMLModel",
            "_view_count": null,
            "_view_module": "@jupyter-widgets/controls",
            "_view_module_version": "1.5.0",
            "_view_name": "HTMLView",
            "description": "",
            "description_tooltip": null,
            "layout": "IPY_MODEL_dd78252a307a468a9abc67b270653bb3",
            "placeholder": "​",
            "style": "IPY_MODEL_60ec7344fbee4741b062f6aa37e0bd84",
            "value": " 511/511 [00:00&lt;00:00, 54.9kB/s]"
          }
        },
        "2ca0af9e25844113bc6ae7d6c2b4fef3": {
          "model_module": "@jupyter-widgets/base",
          "model_name": "LayoutModel",
          "model_module_version": "1.2.0",
          "state": {
            "_model_module": "@jupyter-widgets/base",
            "_model_module_version": "1.2.0",
            "_model_name": "LayoutModel",
            "_view_count": null,
            "_view_module": "@jupyter-widgets/base",
            "_view_module_version": "1.2.0",
            "_view_name": "LayoutView",
            "align_content": null,
            "align_items": null,
            "align_self": null,
            "border": null,
            "bottom": null,
            "display": null,
            "flex": null,
            "flex_flow": null,
            "grid_area": null,
            "grid_auto_columns": null,
            "grid_auto_flow": null,
            "grid_auto_rows": null,
            "grid_column": null,
            "grid_gap": null,
            "grid_row": null,
            "grid_template_areas": null,
            "grid_template_columns": null,
            "grid_template_rows": null,
            "height": null,
            "justify_content": null,
            "justify_items": null,
            "left": null,
            "margin": null,
            "max_height": null,
            "max_width": null,
            "min_height": null,
            "min_width": null,
            "object_fit": null,
            "object_position": null,
            "order": null,
            "overflow": null,
            "overflow_x": null,
            "overflow_y": null,
            "padding": null,
            "right": null,
            "top": null,
            "visibility": null,
            "width": null
          }
        },
        "59bfff9abce4425a8090f53066c9bd33": {
          "model_module": "@jupyter-widgets/base",
          "model_name": "LayoutModel",
          "model_module_version": "1.2.0",
          "state": {
            "_model_module": "@jupyter-widgets/base",
            "_model_module_version": "1.2.0",
            "_model_name": "LayoutModel",
            "_view_count": null,
            "_view_module": "@jupyter-widgets/base",
            "_view_module_version": "1.2.0",
            "_view_name": "LayoutView",
            "align_content": null,
            "align_items": null,
            "align_self": null,
            "border": null,
            "bottom": null,
            "display": null,
            "flex": null,
            "flex_flow": null,
            "grid_area": null,
            "grid_auto_columns": null,
            "grid_auto_flow": null,
            "grid_auto_rows": null,
            "grid_column": null,
            "grid_gap": null,
            "grid_row": null,
            "grid_template_areas": null,
            "grid_template_columns": null,
            "grid_template_rows": null,
            "height": null,
            "justify_content": null,
            "justify_items": null,
            "left": null,
            "margin": null,
            "max_height": null,
            "max_width": null,
            "min_height": null,
            "min_width": null,
            "object_fit": null,
            "object_position": null,
            "order": null,
            "overflow": null,
            "overflow_x": null,
            "overflow_y": null,
            "padding": null,
            "right": null,
            "top": null,
            "visibility": null,
            "width": null
          }
        },
        "62a19dd3e8994dce98ab5e1d67bbbc8c": {
          "model_module": "@jupyter-widgets/controls",
          "model_name": "DescriptionStyleModel",
          "model_module_version": "1.5.0",
          "state": {
            "_model_module": "@jupyter-widgets/controls",
            "_model_module_version": "1.5.0",
            "_model_name": "DescriptionStyleModel",
            "_view_count": null,
            "_view_module": "@jupyter-widgets/base",
            "_view_module_version": "1.2.0",
            "_view_name": "StyleView",
            "description_width": ""
          }
        },
        "cca5e0ad0cb54a9aa370a78cc7322952": {
          "model_module": "@jupyter-widgets/base",
          "model_name": "LayoutModel",
          "model_module_version": "1.2.0",
          "state": {
            "_model_module": "@jupyter-widgets/base",
            "_model_module_version": "1.2.0",
            "_model_name": "LayoutModel",
            "_view_count": null,
            "_view_module": "@jupyter-widgets/base",
            "_view_module_version": "1.2.0",
            "_view_name": "LayoutView",
            "align_content": null,
            "align_items": null,
            "align_self": null,
            "border": null,
            "bottom": null,
            "display": null,
            "flex": null,
            "flex_flow": null,
            "grid_area": null,
            "grid_auto_columns": null,
            "grid_auto_flow": null,
            "grid_auto_rows": null,
            "grid_column": null,
            "grid_gap": null,
            "grid_row": null,
            "grid_template_areas": null,
            "grid_template_columns": null,
            "grid_template_rows": null,
            "height": null,
            "justify_content": null,
            "justify_items": null,
            "left": null,
            "margin": null,
            "max_height": null,
            "max_width": null,
            "min_height": null,
            "min_width": null,
            "object_fit": null,
            "object_position": null,
            "order": null,
            "overflow": null,
            "overflow_x": null,
            "overflow_y": null,
            "padding": null,
            "right": null,
            "top": null,
            "visibility": null,
            "width": null
          }
        },
        "7e8acedd5a494007b676cdaa9be4ee71": {
          "model_module": "@jupyter-widgets/controls",
          "model_name": "ProgressStyleModel",
          "model_module_version": "1.5.0",
          "state": {
            "_model_module": "@jupyter-widgets/controls",
            "_model_module_version": "1.5.0",
            "_model_name": "ProgressStyleModel",
            "_view_count": null,
            "_view_module": "@jupyter-widgets/base",
            "_view_module_version": "1.2.0",
            "_view_name": "StyleView",
            "bar_color": null,
            "description_width": ""
          }
        },
        "dd78252a307a468a9abc67b270653bb3": {
          "model_module": "@jupyter-widgets/base",
          "model_name": "LayoutModel",
          "model_module_version": "1.2.0",
          "state": {
            "_model_module": "@jupyter-widgets/base",
            "_model_module_version": "1.2.0",
            "_model_name": "LayoutModel",
            "_view_count": null,
            "_view_module": "@jupyter-widgets/base",
            "_view_module_version": "1.2.0",
            "_view_name": "LayoutView",
            "align_content": null,
            "align_items": null,
            "align_self": null,
            "border": null,
            "bottom": null,
            "display": null,
            "flex": null,
            "flex_flow": null,
            "grid_area": null,
            "grid_auto_columns": null,
            "grid_auto_flow": null,
            "grid_auto_rows": null,
            "grid_column": null,
            "grid_gap": null,
            "grid_row": null,
            "grid_template_areas": null,
            "grid_template_columns": null,
            "grid_template_rows": null,
            "height": null,
            "justify_content": null,
            "justify_items": null,
            "left": null,
            "margin": null,
            "max_height": null,
            "max_width": null,
            "min_height": null,
            "min_width": null,
            "object_fit": null,
            "object_position": null,
            "order": null,
            "overflow": null,
            "overflow_x": null,
            "overflow_y": null,
            "padding": null,
            "right": null,
            "top": null,
            "visibility": null,
            "width": null
          }
        },
        "60ec7344fbee4741b062f6aa37e0bd84": {
          "model_module": "@jupyter-widgets/controls",
          "model_name": "DescriptionStyleModel",
          "model_module_version": "1.5.0",
          "state": {
            "_model_module": "@jupyter-widgets/controls",
            "_model_module_version": "1.5.0",
            "_model_name": "DescriptionStyleModel",
            "_view_count": null,
            "_view_module": "@jupyter-widgets/base",
            "_view_module_version": "1.2.0",
            "_view_name": "StyleView",
            "description_width": ""
          }
        },
        "3d5402a9c098450d930b0d9b8011931b": {
          "model_module": "@jupyter-widgets/controls",
          "model_name": "HBoxModel",
          "model_module_version": "1.5.0",
          "state": {
            "_dom_classes": [],
            "_model_module": "@jupyter-widgets/controls",
            "_model_module_version": "1.5.0",
            "_model_name": "HBoxModel",
            "_view_count": null,
            "_view_module": "@jupyter-widgets/controls",
            "_view_module_version": "1.5.0",
            "_view_name": "HBoxView",
            "box_style": "",
            "children": [
              "IPY_MODEL_b297e89d05bf4e9aac0289e0a1cd1771",
              "IPY_MODEL_146d6eb5b5a341b2a15cae15fb991cc3",
              "IPY_MODEL_b75d4a71b7874715929c6f820e8db1d8"
            ],
            "layout": "IPY_MODEL_47f5435bf9754758ac8374561a019d19"
          }
        },
        "b297e89d05bf4e9aac0289e0a1cd1771": {
          "model_module": "@jupyter-widgets/controls",
          "model_name": "HTMLModel",
          "model_module_version": "1.5.0",
          "state": {
            "_dom_classes": [],
            "_model_module": "@jupyter-widgets/controls",
            "_model_module_version": "1.5.0",
            "_model_name": "HTMLModel",
            "_view_count": null,
            "_view_module": "@jupyter-widgets/controls",
            "_view_module_version": "1.5.0",
            "_view_name": "HTMLView",
            "description": "",
            "description_tooltip": null,
            "layout": "IPY_MODEL_175d7cc8d59f4680951d8b1320ae72ec",
            "placeholder": "​",
            "style": "IPY_MODEL_3130e14c6da848f082a9ea6e3a3ab681",
            "value": "pytorch_model.bin: 100%"
          }
        },
        "146d6eb5b5a341b2a15cae15fb991cc3": {
          "model_module": "@jupyter-widgets/controls",
          "model_name": "FloatProgressModel",
          "model_module_version": "1.5.0",
          "state": {
            "_dom_classes": [],
            "_model_module": "@jupyter-widgets/controls",
            "_model_module_version": "1.5.0",
            "_model_name": "FloatProgressModel",
            "_view_count": null,
            "_view_module": "@jupyter-widgets/controls",
            "_view_module_version": "1.5.0",
            "_view_name": "ProgressView",
            "bar_style": "success",
            "description": "",
            "description_tooltip": null,
            "layout": "IPY_MODEL_bca60476182b4591b381386d6012ad34",
            "max": 437985387,
            "min": 0,
            "orientation": "horizontal",
            "style": "IPY_MODEL_7fafbe9d56a345689added7045714b57",
            "value": 437985387
          }
        },
        "b75d4a71b7874715929c6f820e8db1d8": {
          "model_module": "@jupyter-widgets/controls",
          "model_name": "HTMLModel",
          "model_module_version": "1.5.0",
          "state": {
            "_dom_classes": [],
            "_model_module": "@jupyter-widgets/controls",
            "_model_module_version": "1.5.0",
            "_model_name": "HTMLModel",
            "_view_count": null,
            "_view_module": "@jupyter-widgets/controls",
            "_view_module_version": "1.5.0",
            "_view_name": "HTMLView",
            "description": "",
            "description_tooltip": null,
            "layout": "IPY_MODEL_28ff50085142460cba5e4be8c41d85fd",
            "placeholder": "​",
            "style": "IPY_MODEL_38697219a6e549ffbcc3d8757f8a6f5a",
            "value": " 438M/438M [00:05&lt;00:00, 97.7MB/s]"
          }
        },
        "47f5435bf9754758ac8374561a019d19": {
          "model_module": "@jupyter-widgets/base",
          "model_name": "LayoutModel",
          "model_module_version": "1.2.0",
          "state": {
            "_model_module": "@jupyter-widgets/base",
            "_model_module_version": "1.2.0",
            "_model_name": "LayoutModel",
            "_view_count": null,
            "_view_module": "@jupyter-widgets/base",
            "_view_module_version": "1.2.0",
            "_view_name": "LayoutView",
            "align_content": null,
            "align_items": null,
            "align_self": null,
            "border": null,
            "bottom": null,
            "display": null,
            "flex": null,
            "flex_flow": null,
            "grid_area": null,
            "grid_auto_columns": null,
            "grid_auto_flow": null,
            "grid_auto_rows": null,
            "grid_column": null,
            "grid_gap": null,
            "grid_row": null,
            "grid_template_areas": null,
            "grid_template_columns": null,
            "grid_template_rows": null,
            "height": null,
            "justify_content": null,
            "justify_items": null,
            "left": null,
            "margin": null,
            "max_height": null,
            "max_width": null,
            "min_height": null,
            "min_width": null,
            "object_fit": null,
            "object_position": null,
            "order": null,
            "overflow": null,
            "overflow_x": null,
            "overflow_y": null,
            "padding": null,
            "right": null,
            "top": null,
            "visibility": null,
            "width": null
          }
        },
        "175d7cc8d59f4680951d8b1320ae72ec": {
          "model_module": "@jupyter-widgets/base",
          "model_name": "LayoutModel",
          "model_module_version": "1.2.0",
          "state": {
            "_model_module": "@jupyter-widgets/base",
            "_model_module_version": "1.2.0",
            "_model_name": "LayoutModel",
            "_view_count": null,
            "_view_module": "@jupyter-widgets/base",
            "_view_module_version": "1.2.0",
            "_view_name": "LayoutView",
            "align_content": null,
            "align_items": null,
            "align_self": null,
            "border": null,
            "bottom": null,
            "display": null,
            "flex": null,
            "flex_flow": null,
            "grid_area": null,
            "grid_auto_columns": null,
            "grid_auto_flow": null,
            "grid_auto_rows": null,
            "grid_column": null,
            "grid_gap": null,
            "grid_row": null,
            "grid_template_areas": null,
            "grid_template_columns": null,
            "grid_template_rows": null,
            "height": null,
            "justify_content": null,
            "justify_items": null,
            "left": null,
            "margin": null,
            "max_height": null,
            "max_width": null,
            "min_height": null,
            "min_width": null,
            "object_fit": null,
            "object_position": null,
            "order": null,
            "overflow": null,
            "overflow_x": null,
            "overflow_y": null,
            "padding": null,
            "right": null,
            "top": null,
            "visibility": null,
            "width": null
          }
        },
        "3130e14c6da848f082a9ea6e3a3ab681": {
          "model_module": "@jupyter-widgets/controls",
          "model_name": "DescriptionStyleModel",
          "model_module_version": "1.5.0",
          "state": {
            "_model_module": "@jupyter-widgets/controls",
            "_model_module_version": "1.5.0",
            "_model_name": "DescriptionStyleModel",
            "_view_count": null,
            "_view_module": "@jupyter-widgets/base",
            "_view_module_version": "1.2.0",
            "_view_name": "StyleView",
            "description_width": ""
          }
        },
        "bca60476182b4591b381386d6012ad34": {
          "model_module": "@jupyter-widgets/base",
          "model_name": "LayoutModel",
          "model_module_version": "1.2.0",
          "state": {
            "_model_module": "@jupyter-widgets/base",
            "_model_module_version": "1.2.0",
            "_model_name": "LayoutModel",
            "_view_count": null,
            "_view_module": "@jupyter-widgets/base",
            "_view_module_version": "1.2.0",
            "_view_name": "LayoutView",
            "align_content": null,
            "align_items": null,
            "align_self": null,
            "border": null,
            "bottom": null,
            "display": null,
            "flex": null,
            "flex_flow": null,
            "grid_area": null,
            "grid_auto_columns": null,
            "grid_auto_flow": null,
            "grid_auto_rows": null,
            "grid_column": null,
            "grid_gap": null,
            "grid_row": null,
            "grid_template_areas": null,
            "grid_template_columns": null,
            "grid_template_rows": null,
            "height": null,
            "justify_content": null,
            "justify_items": null,
            "left": null,
            "margin": null,
            "max_height": null,
            "max_width": null,
            "min_height": null,
            "min_width": null,
            "object_fit": null,
            "object_position": null,
            "order": null,
            "overflow": null,
            "overflow_x": null,
            "overflow_y": null,
            "padding": null,
            "right": null,
            "top": null,
            "visibility": null,
            "width": null
          }
        },
        "7fafbe9d56a345689added7045714b57": {
          "model_module": "@jupyter-widgets/controls",
          "model_name": "ProgressStyleModel",
          "model_module_version": "1.5.0",
          "state": {
            "_model_module": "@jupyter-widgets/controls",
            "_model_module_version": "1.5.0",
            "_model_name": "ProgressStyleModel",
            "_view_count": null,
            "_view_module": "@jupyter-widgets/base",
            "_view_module_version": "1.2.0",
            "_view_name": "StyleView",
            "bar_color": null,
            "description_width": ""
          }
        },
        "28ff50085142460cba5e4be8c41d85fd": {
          "model_module": "@jupyter-widgets/base",
          "model_name": "LayoutModel",
          "model_module_version": "1.2.0",
          "state": {
            "_model_module": "@jupyter-widgets/base",
            "_model_module_version": "1.2.0",
            "_model_name": "LayoutModel",
            "_view_count": null,
            "_view_module": "@jupyter-widgets/base",
            "_view_module_version": "1.2.0",
            "_view_name": "LayoutView",
            "align_content": null,
            "align_items": null,
            "align_self": null,
            "border": null,
            "bottom": null,
            "display": null,
            "flex": null,
            "flex_flow": null,
            "grid_area": null,
            "grid_auto_columns": null,
            "grid_auto_flow": null,
            "grid_auto_rows": null,
            "grid_column": null,
            "grid_gap": null,
            "grid_row": null,
            "grid_template_areas": null,
            "grid_template_columns": null,
            "grid_template_rows": null,
            "height": null,
            "justify_content": null,
            "justify_items": null,
            "left": null,
            "margin": null,
            "max_height": null,
            "max_width": null,
            "min_height": null,
            "min_width": null,
            "object_fit": null,
            "object_position": null,
            "order": null,
            "overflow": null,
            "overflow_x": null,
            "overflow_y": null,
            "padding": null,
            "right": null,
            "top": null,
            "visibility": null,
            "width": null
          }
        },
        "38697219a6e549ffbcc3d8757f8a6f5a": {
          "model_module": "@jupyter-widgets/controls",
          "model_name": "DescriptionStyleModel",
          "model_module_version": "1.5.0",
          "state": {
            "_model_module": "@jupyter-widgets/controls",
            "_model_module_version": "1.5.0",
            "_model_name": "DescriptionStyleModel",
            "_view_count": null,
            "_view_module": "@jupyter-widgets/base",
            "_view_module_version": "1.2.0",
            "_view_name": "StyleView",
            "description_width": ""
          }
        },
        "ab55710e8a8d4b4c9ee0bd3f82032354": {
          "model_module": "@jupyter-widgets/controls",
          "model_name": "HBoxModel",
          "model_module_version": "1.5.0",
          "state": {
            "_dom_classes": [],
            "_model_module": "@jupyter-widgets/controls",
            "_model_module_version": "1.5.0",
            "_model_name": "HBoxModel",
            "_view_count": null,
            "_view_module": "@jupyter-widgets/controls",
            "_view_module_version": "1.5.0",
            "_view_name": "HBoxView",
            "box_style": "",
            "children": [
              "IPY_MODEL_a614a6f9b5bd4bb79cd4e5a564a27e01",
              "IPY_MODEL_75adf7f4508d4a30a4641f28474a74a0",
              "IPY_MODEL_4fd359efcd1e44c7b00acba92b9b151a"
            ],
            "layout": "IPY_MODEL_cb200bb815db4a95bbf5cd3a3fe02be2"
          }
        },
        "a614a6f9b5bd4bb79cd4e5a564a27e01": {
          "model_module": "@jupyter-widgets/controls",
          "model_name": "HTMLModel",
          "model_module_version": "1.5.0",
          "state": {
            "_dom_classes": [],
            "_model_module": "@jupyter-widgets/controls",
            "_model_module_version": "1.5.0",
            "_model_name": "HTMLModel",
            "_view_count": null,
            "_view_module": "@jupyter-widgets/controls",
            "_view_module_version": "1.5.0",
            "_view_name": "HTMLView",
            "description": "",
            "description_tooltip": null,
            "layout": "IPY_MODEL_76911e8fc5144062830ca3e842c5876f",
            "placeholder": "​",
            "style": "IPY_MODEL_4ab442f1d68349339db2871bcd0b0b06",
            "value": "tokenizer_config.json: 100%"
          }
        },
        "75adf7f4508d4a30a4641f28474a74a0": {
          "model_module": "@jupyter-widgets/controls",
          "model_name": "FloatProgressModel",
          "model_module_version": "1.5.0",
          "state": {
            "_dom_classes": [],
            "_model_module": "@jupyter-widgets/controls",
            "_model_module_version": "1.5.0",
            "_model_name": "FloatProgressModel",
            "_view_count": null,
            "_view_module": "@jupyter-widgets/controls",
            "_view_module_version": "1.5.0",
            "_view_name": "ProgressView",
            "bar_style": "success",
            "description": "",
            "description_tooltip": null,
            "layout": "IPY_MODEL_dd6c3073e88f40f996394dc1598acec9",
            "max": 48,
            "min": 0,
            "orientation": "horizontal",
            "style": "IPY_MODEL_262d45b3c63a42e1b28cbe5a46237515",
            "value": 48
          }
        },
        "4fd359efcd1e44c7b00acba92b9b151a": {
          "model_module": "@jupyter-widgets/controls",
          "model_name": "HTMLModel",
          "model_module_version": "1.5.0",
          "state": {
            "_dom_classes": [],
            "_model_module": "@jupyter-widgets/controls",
            "_model_module_version": "1.5.0",
            "_model_name": "HTMLModel",
            "_view_count": null,
            "_view_module": "@jupyter-widgets/controls",
            "_view_module_version": "1.5.0",
            "_view_name": "HTMLView",
            "description": "",
            "description_tooltip": null,
            "layout": "IPY_MODEL_4527e6c88c684297b1435538347e5113",
            "placeholder": "​",
            "style": "IPY_MODEL_6eea903dc0644fd3acdc6ebed15d372b",
            "value": " 48.0/48.0 [00:00&lt;00:00, 4.36kB/s]"
          }
        },
        "cb200bb815db4a95bbf5cd3a3fe02be2": {
          "model_module": "@jupyter-widgets/base",
          "model_name": "LayoutModel",
          "model_module_version": "1.2.0",
          "state": {
            "_model_module": "@jupyter-widgets/base",
            "_model_module_version": "1.2.0",
            "_model_name": "LayoutModel",
            "_view_count": null,
            "_view_module": "@jupyter-widgets/base",
            "_view_module_version": "1.2.0",
            "_view_name": "LayoutView",
            "align_content": null,
            "align_items": null,
            "align_self": null,
            "border": null,
            "bottom": null,
            "display": null,
            "flex": null,
            "flex_flow": null,
            "grid_area": null,
            "grid_auto_columns": null,
            "grid_auto_flow": null,
            "grid_auto_rows": null,
            "grid_column": null,
            "grid_gap": null,
            "grid_row": null,
            "grid_template_areas": null,
            "grid_template_columns": null,
            "grid_template_rows": null,
            "height": null,
            "justify_content": null,
            "justify_items": null,
            "left": null,
            "margin": null,
            "max_height": null,
            "max_width": null,
            "min_height": null,
            "min_width": null,
            "object_fit": null,
            "object_position": null,
            "order": null,
            "overflow": null,
            "overflow_x": null,
            "overflow_y": null,
            "padding": null,
            "right": null,
            "top": null,
            "visibility": null,
            "width": null
          }
        },
        "76911e8fc5144062830ca3e842c5876f": {
          "model_module": "@jupyter-widgets/base",
          "model_name": "LayoutModel",
          "model_module_version": "1.2.0",
          "state": {
            "_model_module": "@jupyter-widgets/base",
            "_model_module_version": "1.2.0",
            "_model_name": "LayoutModel",
            "_view_count": null,
            "_view_module": "@jupyter-widgets/base",
            "_view_module_version": "1.2.0",
            "_view_name": "LayoutView",
            "align_content": null,
            "align_items": null,
            "align_self": null,
            "border": null,
            "bottom": null,
            "display": null,
            "flex": null,
            "flex_flow": null,
            "grid_area": null,
            "grid_auto_columns": null,
            "grid_auto_flow": null,
            "grid_auto_rows": null,
            "grid_column": null,
            "grid_gap": null,
            "grid_row": null,
            "grid_template_areas": null,
            "grid_template_columns": null,
            "grid_template_rows": null,
            "height": null,
            "justify_content": null,
            "justify_items": null,
            "left": null,
            "margin": null,
            "max_height": null,
            "max_width": null,
            "min_height": null,
            "min_width": null,
            "object_fit": null,
            "object_position": null,
            "order": null,
            "overflow": null,
            "overflow_x": null,
            "overflow_y": null,
            "padding": null,
            "right": null,
            "top": null,
            "visibility": null,
            "width": null
          }
        },
        "4ab442f1d68349339db2871bcd0b0b06": {
          "model_module": "@jupyter-widgets/controls",
          "model_name": "DescriptionStyleModel",
          "model_module_version": "1.5.0",
          "state": {
            "_model_module": "@jupyter-widgets/controls",
            "_model_module_version": "1.5.0",
            "_model_name": "DescriptionStyleModel",
            "_view_count": null,
            "_view_module": "@jupyter-widgets/base",
            "_view_module_version": "1.2.0",
            "_view_name": "StyleView",
            "description_width": ""
          }
        },
        "dd6c3073e88f40f996394dc1598acec9": {
          "model_module": "@jupyter-widgets/base",
          "model_name": "LayoutModel",
          "model_module_version": "1.2.0",
          "state": {
            "_model_module": "@jupyter-widgets/base",
            "_model_module_version": "1.2.0",
            "_model_name": "LayoutModel",
            "_view_count": null,
            "_view_module": "@jupyter-widgets/base",
            "_view_module_version": "1.2.0",
            "_view_name": "LayoutView",
            "align_content": null,
            "align_items": null,
            "align_self": null,
            "border": null,
            "bottom": null,
            "display": null,
            "flex": null,
            "flex_flow": null,
            "grid_area": null,
            "grid_auto_columns": null,
            "grid_auto_flow": null,
            "grid_auto_rows": null,
            "grid_column": null,
            "grid_gap": null,
            "grid_row": null,
            "grid_template_areas": null,
            "grid_template_columns": null,
            "grid_template_rows": null,
            "height": null,
            "justify_content": null,
            "justify_items": null,
            "left": null,
            "margin": null,
            "max_height": null,
            "max_width": null,
            "min_height": null,
            "min_width": null,
            "object_fit": null,
            "object_position": null,
            "order": null,
            "overflow": null,
            "overflow_x": null,
            "overflow_y": null,
            "padding": null,
            "right": null,
            "top": null,
            "visibility": null,
            "width": null
          }
        },
        "262d45b3c63a42e1b28cbe5a46237515": {
          "model_module": "@jupyter-widgets/controls",
          "model_name": "ProgressStyleModel",
          "model_module_version": "1.5.0",
          "state": {
            "_model_module": "@jupyter-widgets/controls",
            "_model_module_version": "1.5.0",
            "_model_name": "ProgressStyleModel",
            "_view_count": null,
            "_view_module": "@jupyter-widgets/base",
            "_view_module_version": "1.2.0",
            "_view_name": "StyleView",
            "bar_color": null,
            "description_width": ""
          }
        },
        "4527e6c88c684297b1435538347e5113": {
          "model_module": "@jupyter-widgets/base",
          "model_name": "LayoutModel",
          "model_module_version": "1.2.0",
          "state": {
            "_model_module": "@jupyter-widgets/base",
            "_model_module_version": "1.2.0",
            "_model_name": "LayoutModel",
            "_view_count": null,
            "_view_module": "@jupyter-widgets/base",
            "_view_module_version": "1.2.0",
            "_view_name": "LayoutView",
            "align_content": null,
            "align_items": null,
            "align_self": null,
            "border": null,
            "bottom": null,
            "display": null,
            "flex": null,
            "flex_flow": null,
            "grid_area": null,
            "grid_auto_columns": null,
            "grid_auto_flow": null,
            "grid_auto_rows": null,
            "grid_column": null,
            "grid_gap": null,
            "grid_row": null,
            "grid_template_areas": null,
            "grid_template_columns": null,
            "grid_template_rows": null,
            "height": null,
            "justify_content": null,
            "justify_items": null,
            "left": null,
            "margin": null,
            "max_height": null,
            "max_width": null,
            "min_height": null,
            "min_width": null,
            "object_fit": null,
            "object_position": null,
            "order": null,
            "overflow": null,
            "overflow_x": null,
            "overflow_y": null,
            "padding": null,
            "right": null,
            "top": null,
            "visibility": null,
            "width": null
          }
        },
        "6eea903dc0644fd3acdc6ebed15d372b": {
          "model_module": "@jupyter-widgets/controls",
          "model_name": "DescriptionStyleModel",
          "model_module_version": "1.5.0",
          "state": {
            "_model_module": "@jupyter-widgets/controls",
            "_model_module_version": "1.5.0",
            "_model_name": "DescriptionStyleModel",
            "_view_count": null,
            "_view_module": "@jupyter-widgets/base",
            "_view_module_version": "1.2.0",
            "_view_name": "StyleView",
            "description_width": ""
          }
        },
        "7ebfbdde086147ffa4ad50a69c041333": {
          "model_module": "@jupyter-widgets/controls",
          "model_name": "HBoxModel",
          "model_module_version": "1.5.0",
          "state": {
            "_dom_classes": [],
            "_model_module": "@jupyter-widgets/controls",
            "_model_module_version": "1.5.0",
            "_model_name": "HBoxModel",
            "_view_count": null,
            "_view_module": "@jupyter-widgets/controls",
            "_view_module_version": "1.5.0",
            "_view_name": "HBoxView",
            "box_style": "",
            "children": [
              "IPY_MODEL_a1fc2d087f374cf99afc9b9bdd79c392",
              "IPY_MODEL_58bc44aafb53418198a6005b270f5266",
              "IPY_MODEL_595eadbf83bb4ee6ab66055cf889bd98"
            ],
            "layout": "IPY_MODEL_a927981246414de2a2600cc83c100834"
          }
        },
        "a1fc2d087f374cf99afc9b9bdd79c392": {
          "model_module": "@jupyter-widgets/controls",
          "model_name": "HTMLModel",
          "model_module_version": "1.5.0",
          "state": {
            "_dom_classes": [],
            "_model_module": "@jupyter-widgets/controls",
            "_model_module_version": "1.5.0",
            "_model_name": "HTMLModel",
            "_view_count": null,
            "_view_module": "@jupyter-widgets/controls",
            "_view_module_version": "1.5.0",
            "_view_name": "HTMLView",
            "description": "",
            "description_tooltip": null,
            "layout": "IPY_MODEL_5fe325ee447b4c9692bd0be99ed0ea2b",
            "placeholder": "​",
            "style": "IPY_MODEL_281376493b8a4407a224eb0267757d59",
            "value": "config.json: 100%"
          }
        },
        "58bc44aafb53418198a6005b270f5266": {
          "model_module": "@jupyter-widgets/controls",
          "model_name": "FloatProgressModel",
          "model_module_version": "1.5.0",
          "state": {
            "_dom_classes": [],
            "_model_module": "@jupyter-widgets/controls",
            "_model_module_version": "1.5.0",
            "_model_name": "FloatProgressModel",
            "_view_count": null,
            "_view_module": "@jupyter-widgets/controls",
            "_view_module_version": "1.5.0",
            "_view_name": "ProgressView",
            "bar_style": "success",
            "description": "",
            "description_tooltip": null,
            "layout": "IPY_MODEL_8617df86ce16480988cd4d2d76b0bb93",
            "max": 570,
            "min": 0,
            "orientation": "horizontal",
            "style": "IPY_MODEL_6ad400e64c204d719c97212b5faf811b",
            "value": 570
          }
        },
        "595eadbf83bb4ee6ab66055cf889bd98": {
          "model_module": "@jupyter-widgets/controls",
          "model_name": "HTMLModel",
          "model_module_version": "1.5.0",
          "state": {
            "_dom_classes": [],
            "_model_module": "@jupyter-widgets/controls",
            "_model_module_version": "1.5.0",
            "_model_name": "HTMLModel",
            "_view_count": null,
            "_view_module": "@jupyter-widgets/controls",
            "_view_module_version": "1.5.0",
            "_view_name": "HTMLView",
            "description": "",
            "description_tooltip": null,
            "layout": "IPY_MODEL_e39225c370244a8689bcb5f0c1277c3c",
            "placeholder": "​",
            "style": "IPY_MODEL_5bab7b028c8748dd862e6a2964847587",
            "value": " 570/570 [00:00&lt;00:00, 60.9kB/s]"
          }
        },
        "a927981246414de2a2600cc83c100834": {
          "model_module": "@jupyter-widgets/base",
          "model_name": "LayoutModel",
          "model_module_version": "1.2.0",
          "state": {
            "_model_module": "@jupyter-widgets/base",
            "_model_module_version": "1.2.0",
            "_model_name": "LayoutModel",
            "_view_count": null,
            "_view_module": "@jupyter-widgets/base",
            "_view_module_version": "1.2.0",
            "_view_name": "LayoutView",
            "align_content": null,
            "align_items": null,
            "align_self": null,
            "border": null,
            "bottom": null,
            "display": null,
            "flex": null,
            "flex_flow": null,
            "grid_area": null,
            "grid_auto_columns": null,
            "grid_auto_flow": null,
            "grid_auto_rows": null,
            "grid_column": null,
            "grid_gap": null,
            "grid_row": null,
            "grid_template_areas": null,
            "grid_template_columns": null,
            "grid_template_rows": null,
            "height": null,
            "justify_content": null,
            "justify_items": null,
            "left": null,
            "margin": null,
            "max_height": null,
            "max_width": null,
            "min_height": null,
            "min_width": null,
            "object_fit": null,
            "object_position": null,
            "order": null,
            "overflow": null,
            "overflow_x": null,
            "overflow_y": null,
            "padding": null,
            "right": null,
            "top": null,
            "visibility": null,
            "width": null
          }
        },
        "5fe325ee447b4c9692bd0be99ed0ea2b": {
          "model_module": "@jupyter-widgets/base",
          "model_name": "LayoutModel",
          "model_module_version": "1.2.0",
          "state": {
            "_model_module": "@jupyter-widgets/base",
            "_model_module_version": "1.2.0",
            "_model_name": "LayoutModel",
            "_view_count": null,
            "_view_module": "@jupyter-widgets/base",
            "_view_module_version": "1.2.0",
            "_view_name": "LayoutView",
            "align_content": null,
            "align_items": null,
            "align_self": null,
            "border": null,
            "bottom": null,
            "display": null,
            "flex": null,
            "flex_flow": null,
            "grid_area": null,
            "grid_auto_columns": null,
            "grid_auto_flow": null,
            "grid_auto_rows": null,
            "grid_column": null,
            "grid_gap": null,
            "grid_row": null,
            "grid_template_areas": null,
            "grid_template_columns": null,
            "grid_template_rows": null,
            "height": null,
            "justify_content": null,
            "justify_items": null,
            "left": null,
            "margin": null,
            "max_height": null,
            "max_width": null,
            "min_height": null,
            "min_width": null,
            "object_fit": null,
            "object_position": null,
            "order": null,
            "overflow": null,
            "overflow_x": null,
            "overflow_y": null,
            "padding": null,
            "right": null,
            "top": null,
            "visibility": null,
            "width": null
          }
        },
        "281376493b8a4407a224eb0267757d59": {
          "model_module": "@jupyter-widgets/controls",
          "model_name": "DescriptionStyleModel",
          "model_module_version": "1.5.0",
          "state": {
            "_model_module": "@jupyter-widgets/controls",
            "_model_module_version": "1.5.0",
            "_model_name": "DescriptionStyleModel",
            "_view_count": null,
            "_view_module": "@jupyter-widgets/base",
            "_view_module_version": "1.2.0",
            "_view_name": "StyleView",
            "description_width": ""
          }
        },
        "8617df86ce16480988cd4d2d76b0bb93": {
          "model_module": "@jupyter-widgets/base",
          "model_name": "LayoutModel",
          "model_module_version": "1.2.0",
          "state": {
            "_model_module": "@jupyter-widgets/base",
            "_model_module_version": "1.2.0",
            "_model_name": "LayoutModel",
            "_view_count": null,
            "_view_module": "@jupyter-widgets/base",
            "_view_module_version": "1.2.0",
            "_view_name": "LayoutView",
            "align_content": null,
            "align_items": null,
            "align_self": null,
            "border": null,
            "bottom": null,
            "display": null,
            "flex": null,
            "flex_flow": null,
            "grid_area": null,
            "grid_auto_columns": null,
            "grid_auto_flow": null,
            "grid_auto_rows": null,
            "grid_column": null,
            "grid_gap": null,
            "grid_row": null,
            "grid_template_areas": null,
            "grid_template_columns": null,
            "grid_template_rows": null,
            "height": null,
            "justify_content": null,
            "justify_items": null,
            "left": null,
            "margin": null,
            "max_height": null,
            "max_width": null,
            "min_height": null,
            "min_width": null,
            "object_fit": null,
            "object_position": null,
            "order": null,
            "overflow": null,
            "overflow_x": null,
            "overflow_y": null,
            "padding": null,
            "right": null,
            "top": null,
            "visibility": null,
            "width": null
          }
        },
        "6ad400e64c204d719c97212b5faf811b": {
          "model_module": "@jupyter-widgets/controls",
          "model_name": "ProgressStyleModel",
          "model_module_version": "1.5.0",
          "state": {
            "_model_module": "@jupyter-widgets/controls",
            "_model_module_version": "1.5.0",
            "_model_name": "ProgressStyleModel",
            "_view_count": null,
            "_view_module": "@jupyter-widgets/base",
            "_view_module_version": "1.2.0",
            "_view_name": "StyleView",
            "bar_color": null,
            "description_width": ""
          }
        },
        "e39225c370244a8689bcb5f0c1277c3c": {
          "model_module": "@jupyter-widgets/base",
          "model_name": "LayoutModel",
          "model_module_version": "1.2.0",
          "state": {
            "_model_module": "@jupyter-widgets/base",
            "_model_module_version": "1.2.0",
            "_model_name": "LayoutModel",
            "_view_count": null,
            "_view_module": "@jupyter-widgets/base",
            "_view_module_version": "1.2.0",
            "_view_name": "LayoutView",
            "align_content": null,
            "align_items": null,
            "align_self": null,
            "border": null,
            "bottom": null,
            "display": null,
            "flex": null,
            "flex_flow": null,
            "grid_area": null,
            "grid_auto_columns": null,
            "grid_auto_flow": null,
            "grid_auto_rows": null,
            "grid_column": null,
            "grid_gap": null,
            "grid_row": null,
            "grid_template_areas": null,
            "grid_template_columns": null,
            "grid_template_rows": null,
            "height": null,
            "justify_content": null,
            "justify_items": null,
            "left": null,
            "margin": null,
            "max_height": null,
            "max_width": null,
            "min_height": null,
            "min_width": null,
            "object_fit": null,
            "object_position": null,
            "order": null,
            "overflow": null,
            "overflow_x": null,
            "overflow_y": null,
            "padding": null,
            "right": null,
            "top": null,
            "visibility": null,
            "width": null
          }
        },
        "5bab7b028c8748dd862e6a2964847587": {
          "model_module": "@jupyter-widgets/controls",
          "model_name": "DescriptionStyleModel",
          "model_module_version": "1.5.0",
          "state": {
            "_model_module": "@jupyter-widgets/controls",
            "_model_module_version": "1.5.0",
            "_model_name": "DescriptionStyleModel",
            "_view_count": null,
            "_view_module": "@jupyter-widgets/base",
            "_view_module_version": "1.2.0",
            "_view_name": "StyleView",
            "description_width": ""
          }
        },
        "ca9b90597067469b86805a0271739158": {
          "model_module": "@jupyter-widgets/controls",
          "model_name": "HBoxModel",
          "model_module_version": "1.5.0",
          "state": {
            "_dom_classes": [],
            "_model_module": "@jupyter-widgets/controls",
            "_model_module_version": "1.5.0",
            "_model_name": "HBoxModel",
            "_view_count": null,
            "_view_module": "@jupyter-widgets/controls",
            "_view_module_version": "1.5.0",
            "_view_name": "HBoxView",
            "box_style": "",
            "children": [
              "IPY_MODEL_5b8f6ca605fb4ee685559a337fb9a97f",
              "IPY_MODEL_0ae19f687a8c48588f10326c2b9637f4",
              "IPY_MODEL_0f00891cf4ec45cc9f30d75a666fd550"
            ],
            "layout": "IPY_MODEL_bdc4e806dc264e198f3913bc5a7e0d01"
          }
        },
        "5b8f6ca605fb4ee685559a337fb9a97f": {
          "model_module": "@jupyter-widgets/controls",
          "model_name": "HTMLModel",
          "model_module_version": "1.5.0",
          "state": {
            "_dom_classes": [],
            "_model_module": "@jupyter-widgets/controls",
            "_model_module_version": "1.5.0",
            "_model_name": "HTMLModel",
            "_view_count": null,
            "_view_module": "@jupyter-widgets/controls",
            "_view_module_version": "1.5.0",
            "_view_name": "HTMLView",
            "description": "",
            "description_tooltip": null,
            "layout": "IPY_MODEL_1fcb2b49851143d08c59d1996d316d0f",
            "placeholder": "​",
            "style": "IPY_MODEL_fad9405f3a9e421298aa71a01198bfac",
            "value": "vocab.txt: 100%"
          }
        },
        "0ae19f687a8c48588f10326c2b9637f4": {
          "model_module": "@jupyter-widgets/controls",
          "model_name": "FloatProgressModel",
          "model_module_version": "1.5.0",
          "state": {
            "_dom_classes": [],
            "_model_module": "@jupyter-widgets/controls",
            "_model_module_version": "1.5.0",
            "_model_name": "FloatProgressModel",
            "_view_count": null,
            "_view_module": "@jupyter-widgets/controls",
            "_view_module_version": "1.5.0",
            "_view_name": "ProgressView",
            "bar_style": "success",
            "description": "",
            "description_tooltip": null,
            "layout": "IPY_MODEL_3785a5ec4d764501878c2516cd061d86",
            "max": 231508,
            "min": 0,
            "orientation": "horizontal",
            "style": "IPY_MODEL_3af9160bd8ef49c0819daf3104c0e9b5",
            "value": 231508
          }
        },
        "0f00891cf4ec45cc9f30d75a666fd550": {
          "model_module": "@jupyter-widgets/controls",
          "model_name": "HTMLModel",
          "model_module_version": "1.5.0",
          "state": {
            "_dom_classes": [],
            "_model_module": "@jupyter-widgets/controls",
            "_model_module_version": "1.5.0",
            "_model_name": "HTMLModel",
            "_view_count": null,
            "_view_module": "@jupyter-widgets/controls",
            "_view_module_version": "1.5.0",
            "_view_name": "HTMLView",
            "description": "",
            "description_tooltip": null,
            "layout": "IPY_MODEL_33a4af8039c14fa3bf52a605be6310f4",
            "placeholder": "​",
            "style": "IPY_MODEL_02925c6fb2924ce0acd82242197d9c07",
            "value": " 232k/232k [00:00&lt;00:00, 17.6MB/s]"
          }
        },
        "bdc4e806dc264e198f3913bc5a7e0d01": {
          "model_module": "@jupyter-widgets/base",
          "model_name": "LayoutModel",
          "model_module_version": "1.2.0",
          "state": {
            "_model_module": "@jupyter-widgets/base",
            "_model_module_version": "1.2.0",
            "_model_name": "LayoutModel",
            "_view_count": null,
            "_view_module": "@jupyter-widgets/base",
            "_view_module_version": "1.2.0",
            "_view_name": "LayoutView",
            "align_content": null,
            "align_items": null,
            "align_self": null,
            "border": null,
            "bottom": null,
            "display": null,
            "flex": null,
            "flex_flow": null,
            "grid_area": null,
            "grid_auto_columns": null,
            "grid_auto_flow": null,
            "grid_auto_rows": null,
            "grid_column": null,
            "grid_gap": null,
            "grid_row": null,
            "grid_template_areas": null,
            "grid_template_columns": null,
            "grid_template_rows": null,
            "height": null,
            "justify_content": null,
            "justify_items": null,
            "left": null,
            "margin": null,
            "max_height": null,
            "max_width": null,
            "min_height": null,
            "min_width": null,
            "object_fit": null,
            "object_position": null,
            "order": null,
            "overflow": null,
            "overflow_x": null,
            "overflow_y": null,
            "padding": null,
            "right": null,
            "top": null,
            "visibility": null,
            "width": null
          }
        },
        "1fcb2b49851143d08c59d1996d316d0f": {
          "model_module": "@jupyter-widgets/base",
          "model_name": "LayoutModel",
          "model_module_version": "1.2.0",
          "state": {
            "_model_module": "@jupyter-widgets/base",
            "_model_module_version": "1.2.0",
            "_model_name": "LayoutModel",
            "_view_count": null,
            "_view_module": "@jupyter-widgets/base",
            "_view_module_version": "1.2.0",
            "_view_name": "LayoutView",
            "align_content": null,
            "align_items": null,
            "align_self": null,
            "border": null,
            "bottom": null,
            "display": null,
            "flex": null,
            "flex_flow": null,
            "grid_area": null,
            "grid_auto_columns": null,
            "grid_auto_flow": null,
            "grid_auto_rows": null,
            "grid_column": null,
            "grid_gap": null,
            "grid_row": null,
            "grid_template_areas": null,
            "grid_template_columns": null,
            "grid_template_rows": null,
            "height": null,
            "justify_content": null,
            "justify_items": null,
            "left": null,
            "margin": null,
            "max_height": null,
            "max_width": null,
            "min_height": null,
            "min_width": null,
            "object_fit": null,
            "object_position": null,
            "order": null,
            "overflow": null,
            "overflow_x": null,
            "overflow_y": null,
            "padding": null,
            "right": null,
            "top": null,
            "visibility": null,
            "width": null
          }
        },
        "fad9405f3a9e421298aa71a01198bfac": {
          "model_module": "@jupyter-widgets/controls",
          "model_name": "DescriptionStyleModel",
          "model_module_version": "1.5.0",
          "state": {
            "_model_module": "@jupyter-widgets/controls",
            "_model_module_version": "1.5.0",
            "_model_name": "DescriptionStyleModel",
            "_view_count": null,
            "_view_module": "@jupyter-widgets/base",
            "_view_module_version": "1.2.0",
            "_view_name": "StyleView",
            "description_width": ""
          }
        },
        "3785a5ec4d764501878c2516cd061d86": {
          "model_module": "@jupyter-widgets/base",
          "model_name": "LayoutModel",
          "model_module_version": "1.2.0",
          "state": {
            "_model_module": "@jupyter-widgets/base",
            "_model_module_version": "1.2.0",
            "_model_name": "LayoutModel",
            "_view_count": null,
            "_view_module": "@jupyter-widgets/base",
            "_view_module_version": "1.2.0",
            "_view_name": "LayoutView",
            "align_content": null,
            "align_items": null,
            "align_self": null,
            "border": null,
            "bottom": null,
            "display": null,
            "flex": null,
            "flex_flow": null,
            "grid_area": null,
            "grid_auto_columns": null,
            "grid_auto_flow": null,
            "grid_auto_rows": null,
            "grid_column": null,
            "grid_gap": null,
            "grid_row": null,
            "grid_template_areas": null,
            "grid_template_columns": null,
            "grid_template_rows": null,
            "height": null,
            "justify_content": null,
            "justify_items": null,
            "left": null,
            "margin": null,
            "max_height": null,
            "max_width": null,
            "min_height": null,
            "min_width": null,
            "object_fit": null,
            "object_position": null,
            "order": null,
            "overflow": null,
            "overflow_x": null,
            "overflow_y": null,
            "padding": null,
            "right": null,
            "top": null,
            "visibility": null,
            "width": null
          }
        },
        "3af9160bd8ef49c0819daf3104c0e9b5": {
          "model_module": "@jupyter-widgets/controls",
          "model_name": "ProgressStyleModel",
          "model_module_version": "1.5.0",
          "state": {
            "_model_module": "@jupyter-widgets/controls",
            "_model_module_version": "1.5.0",
            "_model_name": "ProgressStyleModel",
            "_view_count": null,
            "_view_module": "@jupyter-widgets/base",
            "_view_module_version": "1.2.0",
            "_view_name": "StyleView",
            "bar_color": null,
            "description_width": ""
          }
        },
        "33a4af8039c14fa3bf52a605be6310f4": {
          "model_module": "@jupyter-widgets/base",
          "model_name": "LayoutModel",
          "model_module_version": "1.2.0",
          "state": {
            "_model_module": "@jupyter-widgets/base",
            "_model_module_version": "1.2.0",
            "_model_name": "LayoutModel",
            "_view_count": null,
            "_view_module": "@jupyter-widgets/base",
            "_view_module_version": "1.2.0",
            "_view_name": "LayoutView",
            "align_content": null,
            "align_items": null,
            "align_self": null,
            "border": null,
            "bottom": null,
            "display": null,
            "flex": null,
            "flex_flow": null,
            "grid_area": null,
            "grid_auto_columns": null,
            "grid_auto_flow": null,
            "grid_auto_rows": null,
            "grid_column": null,
            "grid_gap": null,
            "grid_row": null,
            "grid_template_areas": null,
            "grid_template_columns": null,
            "grid_template_rows": null,
            "height": null,
            "justify_content": null,
            "justify_items": null,
            "left": null,
            "margin": null,
            "max_height": null,
            "max_width": null,
            "min_height": null,
            "min_width": null,
            "object_fit": null,
            "object_position": null,
            "order": null,
            "overflow": null,
            "overflow_x": null,
            "overflow_y": null,
            "padding": null,
            "right": null,
            "top": null,
            "visibility": null,
            "width": null
          }
        },
        "02925c6fb2924ce0acd82242197d9c07": {
          "model_module": "@jupyter-widgets/controls",
          "model_name": "DescriptionStyleModel",
          "model_module_version": "1.5.0",
          "state": {
            "_model_module": "@jupyter-widgets/controls",
            "_model_module_version": "1.5.0",
            "_model_name": "DescriptionStyleModel",
            "_view_count": null,
            "_view_module": "@jupyter-widgets/base",
            "_view_module_version": "1.2.0",
            "_view_name": "StyleView",
            "description_width": ""
          }
        },
        "0df4972dc0194f3c869026a89f689552": {
          "model_module": "@jupyter-widgets/controls",
          "model_name": "HBoxModel",
          "model_module_version": "1.5.0",
          "state": {
            "_dom_classes": [],
            "_model_module": "@jupyter-widgets/controls",
            "_model_module_version": "1.5.0",
            "_model_name": "HBoxModel",
            "_view_count": null,
            "_view_module": "@jupyter-widgets/controls",
            "_view_module_version": "1.5.0",
            "_view_name": "HBoxView",
            "box_style": "",
            "children": [
              "IPY_MODEL_13f7eb833836423193e502ed48122b77",
              "IPY_MODEL_1c37adf9780740d8b95ea06cb5c6af1f",
              "IPY_MODEL_5986177fedcf4dea8100571bc580bcbd"
            ],
            "layout": "IPY_MODEL_852598909a2a48338d975212097c8ba7"
          }
        },
        "13f7eb833836423193e502ed48122b77": {
          "model_module": "@jupyter-widgets/controls",
          "model_name": "HTMLModel",
          "model_module_version": "1.5.0",
          "state": {
            "_dom_classes": [],
            "_model_module": "@jupyter-widgets/controls",
            "_model_module_version": "1.5.0",
            "_model_name": "HTMLModel",
            "_view_count": null,
            "_view_module": "@jupyter-widgets/controls",
            "_view_module_version": "1.5.0",
            "_view_name": "HTMLView",
            "description": "",
            "description_tooltip": null,
            "layout": "IPY_MODEL_2ca194103cae485cac553a4b1dd9efd4",
            "placeholder": "​",
            "style": "IPY_MODEL_c44559bb47a143fdb55aa6999554f210",
            "value": "tokenizer.json: 100%"
          }
        },
        "1c37adf9780740d8b95ea06cb5c6af1f": {
          "model_module": "@jupyter-widgets/controls",
          "model_name": "FloatProgressModel",
          "model_module_version": "1.5.0",
          "state": {
            "_dom_classes": [],
            "_model_module": "@jupyter-widgets/controls",
            "_model_module_version": "1.5.0",
            "_model_name": "FloatProgressModel",
            "_view_count": null,
            "_view_module": "@jupyter-widgets/controls",
            "_view_module_version": "1.5.0",
            "_view_name": "ProgressView",
            "bar_style": "success",
            "description": "",
            "description_tooltip": null,
            "layout": "IPY_MODEL_8fcce5d9859944079d5f50499aa5125d",
            "max": 466062,
            "min": 0,
            "orientation": "horizontal",
            "style": "IPY_MODEL_c24f0f572d8a44a3a2562f836a5a79ef",
            "value": 466062
          }
        },
        "5986177fedcf4dea8100571bc580bcbd": {
          "model_module": "@jupyter-widgets/controls",
          "model_name": "HTMLModel",
          "model_module_version": "1.5.0",
          "state": {
            "_dom_classes": [],
            "_model_module": "@jupyter-widgets/controls",
            "_model_module_version": "1.5.0",
            "_model_name": "HTMLModel",
            "_view_count": null,
            "_view_module": "@jupyter-widgets/controls",
            "_view_module_version": "1.5.0",
            "_view_name": "HTMLView",
            "description": "",
            "description_tooltip": null,
            "layout": "IPY_MODEL_c2cfdcec5c65435fab9847557075dfca",
            "placeholder": "​",
            "style": "IPY_MODEL_4cb3e46aebbc47e8aa95b7f6b80bdb18",
            "value": " 466k/466k [00:00&lt;00:00, 2.11MB/s]"
          }
        },
        "852598909a2a48338d975212097c8ba7": {
          "model_module": "@jupyter-widgets/base",
          "model_name": "LayoutModel",
          "model_module_version": "1.2.0",
          "state": {
            "_model_module": "@jupyter-widgets/base",
            "_model_module_version": "1.2.0",
            "_model_name": "LayoutModel",
            "_view_count": null,
            "_view_module": "@jupyter-widgets/base",
            "_view_module_version": "1.2.0",
            "_view_name": "LayoutView",
            "align_content": null,
            "align_items": null,
            "align_self": null,
            "border": null,
            "bottom": null,
            "display": null,
            "flex": null,
            "flex_flow": null,
            "grid_area": null,
            "grid_auto_columns": null,
            "grid_auto_flow": null,
            "grid_auto_rows": null,
            "grid_column": null,
            "grid_gap": null,
            "grid_row": null,
            "grid_template_areas": null,
            "grid_template_columns": null,
            "grid_template_rows": null,
            "height": null,
            "justify_content": null,
            "justify_items": null,
            "left": null,
            "margin": null,
            "max_height": null,
            "max_width": null,
            "min_height": null,
            "min_width": null,
            "object_fit": null,
            "object_position": null,
            "order": null,
            "overflow": null,
            "overflow_x": null,
            "overflow_y": null,
            "padding": null,
            "right": null,
            "top": null,
            "visibility": null,
            "width": null
          }
        },
        "2ca194103cae485cac553a4b1dd9efd4": {
          "model_module": "@jupyter-widgets/base",
          "model_name": "LayoutModel",
          "model_module_version": "1.2.0",
          "state": {
            "_model_module": "@jupyter-widgets/base",
            "_model_module_version": "1.2.0",
            "_model_name": "LayoutModel",
            "_view_count": null,
            "_view_module": "@jupyter-widgets/base",
            "_view_module_version": "1.2.0",
            "_view_name": "LayoutView",
            "align_content": null,
            "align_items": null,
            "align_self": null,
            "border": null,
            "bottom": null,
            "display": null,
            "flex": null,
            "flex_flow": null,
            "grid_area": null,
            "grid_auto_columns": null,
            "grid_auto_flow": null,
            "grid_auto_rows": null,
            "grid_column": null,
            "grid_gap": null,
            "grid_row": null,
            "grid_template_areas": null,
            "grid_template_columns": null,
            "grid_template_rows": null,
            "height": null,
            "justify_content": null,
            "justify_items": null,
            "left": null,
            "margin": null,
            "max_height": null,
            "max_width": null,
            "min_height": null,
            "min_width": null,
            "object_fit": null,
            "object_position": null,
            "order": null,
            "overflow": null,
            "overflow_x": null,
            "overflow_y": null,
            "padding": null,
            "right": null,
            "top": null,
            "visibility": null,
            "width": null
          }
        },
        "c44559bb47a143fdb55aa6999554f210": {
          "model_module": "@jupyter-widgets/controls",
          "model_name": "DescriptionStyleModel",
          "model_module_version": "1.5.0",
          "state": {
            "_model_module": "@jupyter-widgets/controls",
            "_model_module_version": "1.5.0",
            "_model_name": "DescriptionStyleModel",
            "_view_count": null,
            "_view_module": "@jupyter-widgets/base",
            "_view_module_version": "1.2.0",
            "_view_name": "StyleView",
            "description_width": ""
          }
        },
        "8fcce5d9859944079d5f50499aa5125d": {
          "model_module": "@jupyter-widgets/base",
          "model_name": "LayoutModel",
          "model_module_version": "1.2.0",
          "state": {
            "_model_module": "@jupyter-widgets/base",
            "_model_module_version": "1.2.0",
            "_model_name": "LayoutModel",
            "_view_count": null,
            "_view_module": "@jupyter-widgets/base",
            "_view_module_version": "1.2.0",
            "_view_name": "LayoutView",
            "align_content": null,
            "align_items": null,
            "align_self": null,
            "border": null,
            "bottom": null,
            "display": null,
            "flex": null,
            "flex_flow": null,
            "grid_area": null,
            "grid_auto_columns": null,
            "grid_auto_flow": null,
            "grid_auto_rows": null,
            "grid_column": null,
            "grid_gap": null,
            "grid_row": null,
            "grid_template_areas": null,
            "grid_template_columns": null,
            "grid_template_rows": null,
            "height": null,
            "justify_content": null,
            "justify_items": null,
            "left": null,
            "margin": null,
            "max_height": null,
            "max_width": null,
            "min_height": null,
            "min_width": null,
            "object_fit": null,
            "object_position": null,
            "order": null,
            "overflow": null,
            "overflow_x": null,
            "overflow_y": null,
            "padding": null,
            "right": null,
            "top": null,
            "visibility": null,
            "width": null
          }
        },
        "c24f0f572d8a44a3a2562f836a5a79ef": {
          "model_module": "@jupyter-widgets/controls",
          "model_name": "ProgressStyleModel",
          "model_module_version": "1.5.0",
          "state": {
            "_model_module": "@jupyter-widgets/controls",
            "_model_module_version": "1.5.0",
            "_model_name": "ProgressStyleModel",
            "_view_count": null,
            "_view_module": "@jupyter-widgets/base",
            "_view_module_version": "1.2.0",
            "_view_name": "StyleView",
            "bar_color": null,
            "description_width": ""
          }
        },
        "c2cfdcec5c65435fab9847557075dfca": {
          "model_module": "@jupyter-widgets/base",
          "model_name": "LayoutModel",
          "model_module_version": "1.2.0",
          "state": {
            "_model_module": "@jupyter-widgets/base",
            "_model_module_version": "1.2.0",
            "_model_name": "LayoutModel",
            "_view_count": null,
            "_view_module": "@jupyter-widgets/base",
            "_view_module_version": "1.2.0",
            "_view_name": "LayoutView",
            "align_content": null,
            "align_items": null,
            "align_self": null,
            "border": null,
            "bottom": null,
            "display": null,
            "flex": null,
            "flex_flow": null,
            "grid_area": null,
            "grid_auto_columns": null,
            "grid_auto_flow": null,
            "grid_auto_rows": null,
            "grid_column": null,
            "grid_gap": null,
            "grid_row": null,
            "grid_template_areas": null,
            "grid_template_columns": null,
            "grid_template_rows": null,
            "height": null,
            "justify_content": null,
            "justify_items": null,
            "left": null,
            "margin": null,
            "max_height": null,
            "max_width": null,
            "min_height": null,
            "min_width": null,
            "object_fit": null,
            "object_position": null,
            "order": null,
            "overflow": null,
            "overflow_x": null,
            "overflow_y": null,
            "padding": null,
            "right": null,
            "top": null,
            "visibility": null,
            "width": null
          }
        },
        "4cb3e46aebbc47e8aa95b7f6b80bdb18": {
          "model_module": "@jupyter-widgets/controls",
          "model_name": "DescriptionStyleModel",
          "model_module_version": "1.5.0",
          "state": {
            "_model_module": "@jupyter-widgets/controls",
            "_model_module_version": "1.5.0",
            "_model_name": "DescriptionStyleModel",
            "_view_count": null,
            "_view_module": "@jupyter-widgets/base",
            "_view_module_version": "1.2.0",
            "_view_name": "StyleView",
            "description_width": ""
          }
        }
      }
    },
    "kaggle": {
      "accelerator": "nvidiaTeslaT4",
      "dataSources": [],
      "dockerImageVersionId": 30919,
      "isInternetEnabled": true,
      "language": "python",
      "sourceType": "notebook",
      "isGpuEnabled": true
    }
  },
  "nbformat_minor": 0,
  "nbformat": 4,
  "cells": [
    {
      "cell_type": "markdown",
      "source": [
        "# Knowledge Distillation ⚗️🧑‍🏫👨‍🎓"
      ],
      "metadata": {
        "id": "PYjSsDJhs9ST"
      }
    },
    {
      "cell_type": "markdown",
      "source": [
        "In NLP, the quest for efficient yet powerful models is an ongoing challenge. This notebook explores task-specific knowledge distillation, a **compression** technique that enables us to transfer the knowledge of a large, specialized teacher model to a smaller, more efficient student model—much like a seasoned expert mentoring a promising apprentice.\n",
        "\n",
        "In our case, the teacher is a `bert-base` model (110M params), fine-tuned for sentiment analysis on the IMDB dataset, where it has learned to capture the subtle nuances of positive and negative reviews. Our goal is to distill this knowledge into a more lightweight `distilbert-base` model (67M params), training it to mimic the teacher’s outputs while maintaining strong performance.\n",
        "\n",
        "This approach significantly reduces computational overhead, making it easier to deploy powerful NLP models in resource-constrained environments without sacrificing accuracy."
      ],
      "metadata": {
        "id": "p4e9i5Y1g-Ao"
      }
    },
    {
      "cell_type": "markdown",
      "source": [
        "# Compressing the finetuned BERT into DistilBERT"
      ],
      "metadata": {
        "id": "q9FgR7nauD0e"
      }
    },
    {
      "cell_type": "markdown",
      "source": [
        "Install depandancies and import libs"
      ],
      "metadata": {
        "id": "HLLeO33lr-Kg"
      }
    },
    {
      "cell_type": "code",
      "source": [
        "!pip install -q -U transformers\n",
        "!pip install -q -U datasets\n",
        "!pip install -q -U accelerate\n",
        "!pip install -q -U bitsandbytes\n"
      ],
      "metadata": {
        "colab": {
          "base_uri": "https://localhost:8080/"
        },
        "id": "E1I08_n0NVnH",
        "outputId": "7a4a5d07-2d82-43e0-eac8-e803af736041",
        "trusted": true,
        "execution": {
          "iopub.status.busy": "2025-03-14T13:35:47.920154Z",
          "iopub.execute_input": "2025-03-14T13:35:47.920465Z",
          "iopub.status.idle": "2025-03-14T13:36:14.120160Z",
          "shell.execute_reply.started": "2025-03-14T13:35:47.920420Z",
          "shell.execute_reply": "2025-03-14T13:36:14.119295Z"
        }
      },
      "outputs": [
        {
          "name": "stdout",
          "text": "\u001b[2K     \u001b[90m━━━━━━━━━━━━━━━━━━━━━━━━━━━━━━━━━━━━━━━━\u001b[0m \u001b[32m44.0/44.0 kB\u001b[0m \u001b[31m2.0 MB/s\u001b[0m eta \u001b[36m0:00:00\u001b[0m\n\u001b[2K   \u001b[90m━━━━━━━━━━━━━━━━━━━━━━━━━━━━━━━━━━━━━━━━\u001b[0m \u001b[32m10.0/10.0 MB\u001b[0m \u001b[31m91.0 MB/s\u001b[0m eta \u001b[36m0:00:00\u001b[0m:00:01\u001b[0m:01\u001b[0m\n\u001b[2K   \u001b[90m━━━━━━━━━━━━━━━━━━━━━━━━━━━━━━━━━━━━━━━━\u001b[0m \u001b[32m485.4/485.4 kB\u001b[0m \u001b[31m11.5 MB/s\u001b[0m eta \u001b[36m0:00:00\u001b[0m00:01\u001b[0m\n\u001b[2K   \u001b[90m━━━━━━━━━━━━━━━━━━━━━━━━━━━━━━━━━━━━━━━━\u001b[0m \u001b[32m345.1/345.1 kB\u001b[0m \u001b[31m8.1 MB/s\u001b[0m eta \u001b[36m0:00:00\u001b[0m:00:01\u001b[0m\n\u001b[2K   \u001b[90m━━━━━━━━━━━━━━━━━━━━━━━━━━━━━━━━━━━━━━━━\u001b[0m \u001b[32m76.1/76.1 MB\u001b[0m \u001b[31m23.0 MB/s\u001b[0m eta \u001b[36m0:00:00\u001b[0m:00:01\u001b[0m00:01\u001b[0m\n\u001b[?25h",
          "output_type": "stream"
        }
      ],
      "execution_count": null
    },
    {
      "cell_type": "code",
      "source": [
        "import torch\n",
        "from torch.utils.data import DataLoader\n",
        "from torch.optim import AdamW\n",
        "from tqdm import tqdm\n",
        "from transformers import (\n",
        "    AutoTokenizer,\n",
        "    AutoModelForSequenceClassification,\n",
        "    DistilBertForSequenceClassification,\n",
        "    get_scheduler,\n",
        "    DistilBertConfig\n",
        ")\n",
        "from datasets import load_dataset, DatasetDict"
      ],
      "metadata": {
        "id": "S0unvKSnNFZs",
        "trusted": true,
        "execution": {
          "iopub.status.busy": "2025-03-14T13:36:27.977648Z",
          "iopub.execute_input": "2025-03-14T13:36:27.977960Z",
          "iopub.status.idle": "2025-03-14T13:36:48.408203Z",
          "shell.execute_reply.started": "2025-03-14T13:36:27.977937Z",
          "shell.execute_reply": "2025-03-14T13:36:48.407551Z"
        }
      },
      "outputs": [],
      "execution_count": null
    },
    {
      "cell_type": "markdown",
      "source": [
        "## 1- Load IMDB Dataset"
      ],
      "metadata": {
        "id": "tmyeQfGknm4w"
      }
    },
    {
      "cell_type": "code",
      "source": [
        "dataset = load_dataset(\"stanfordnlp/imdb\")"
      ],
      "metadata": {
        "id": "5e67uqd3O5pO",
        "trusted": true,
        "execution": {
          "iopub.status.busy": "2025-03-14T14:55:05.416738Z",
          "iopub.execute_input": "2025-03-14T14:55:05.417075Z",
          "iopub.status.idle": "2025-03-14T14:55:07.319517Z",
          "shell.execute_reply.started": "2025-03-14T14:55:05.417052Z",
          "shell.execute_reply": "2025-03-14T14:55:07.318656Z"
        }
      },
      "outputs": [],
      "execution_count": null
    },
    {
      "cell_type": "code",
      "source": [
        "dataset"
      ],
      "metadata": {
        "colab": {
          "base_uri": "https://localhost:8080/"
        },
        "id": "itkhdEXRPJel",
        "outputId": "848fd23e-cbe6-4deb-89dc-a7834c07fe8e",
        "trusted": true,
        "execution": {
          "iopub.status.busy": "2025-03-14T14:55:08.865201Z",
          "iopub.execute_input": "2025-03-14T14:55:08.865553Z",
          "iopub.status.idle": "2025-03-14T14:55:08.870359Z",
          "shell.execute_reply.started": "2025-03-14T14:55:08.865524Z",
          "shell.execute_reply": "2025-03-14T14:55:08.869660Z"
        }
      },
      "outputs": [
        {
          "execution_count": 52,
          "output_type": "execute_result",
          "data": {
            "text/plain": "DatasetDict({\n    train: Dataset({\n        features: ['text', 'label'],\n        num_rows: 25000\n    })\n    test: Dataset({\n        features: ['text', 'label'],\n        num_rows: 25000\n    })\n    unsupervised: Dataset({\n        features: ['text', 'label'],\n        num_rows: 50000\n    })\n})"
          },
          "metadata": {}
        }
      ],
      "execution_count": null
    },
    {
      "cell_type": "markdown",
      "source": [
        "## 2- Load models"
      ],
      "metadata": {
        "id": "1BEuFVlovaKN"
      }
    },
    {
      "cell_type": "markdown",
      "source": [
        "Load teacher model : a bert model fine tuned for sentiment analysis for movie reviews (110 M params)"
      ],
      "metadata": {
        "id": "m-rZkVu8XYRX"
      }
    },
    {
      "cell_type": "code",
      "source": [
        "# Set device\n",
        "device = torch.device(\"cuda\" if torch.cuda.is_available() else \"cpu\")\n",
        "print(f\"Using device: {device}\")"
      ],
      "metadata": {
        "colab": {
          "base_uri": "https://localhost:8080/"
        },
        "id": "AvCZQcXYR5vU",
        "outputId": "959ac9f9-7894-4ab3-bec1-91b74a5b7a85",
        "trusted": true,
        "execution": {
          "iopub.status.busy": "2025-03-14T13:37:27.366039Z",
          "iopub.execute_input": "2025-03-14T13:37:27.366346Z",
          "iopub.status.idle": "2025-03-14T13:37:27.449076Z",
          "shell.execute_reply.started": "2025-03-14T13:37:27.366325Z",
          "shell.execute_reply": "2025-03-14T13:37:27.448219Z"
        }
      },
      "outputs": [
        {
          "name": "stdout",
          "text": "Using device: cuda\n",
          "output_type": "stream"
        }
      ],
      "execution_count": null
    },
    {
      "cell_type": "code",
      "source": [
        "# Load fine-tuned teacher model (BERT fine-tuned on IMDB)\n",
        "teacher_model = AutoModelForSequenceClassification.from_pretrained(\"textattack/bert-base-uncased-imdb\").to(device)"
      ],
      "metadata": {
        "colab": {
          "base_uri": "https://localhost:8080/",
          "height": 81,
          "referenced_widgets": [
            "1c988116ff0448cbbc086f532e3e6a8a",
            "7c317f0fa3004b89a2a818e22fd3265e",
            "94e501393f7c4410930c9aef4978b236",
            "6eeb68b1c4e24eb2a41f1eb777acf09a",
            "2ca0af9e25844113bc6ae7d6c2b4fef3",
            "59bfff9abce4425a8090f53066c9bd33",
            "62a19dd3e8994dce98ab5e1d67bbbc8c",
            "cca5e0ad0cb54a9aa370a78cc7322952",
            "7e8acedd5a494007b676cdaa9be4ee71",
            "dd78252a307a468a9abc67b270653bb3",
            "60ec7344fbee4741b062f6aa37e0bd84",
            "3d5402a9c098450d930b0d9b8011931b",
            "b297e89d05bf4e9aac0289e0a1cd1771",
            "146d6eb5b5a341b2a15cae15fb991cc3",
            "b75d4a71b7874715929c6f820e8db1d8",
            "47f5435bf9754758ac8374561a019d19",
            "175d7cc8d59f4680951d8b1320ae72ec",
            "3130e14c6da848f082a9ea6e3a3ab681",
            "bca60476182b4591b381386d6012ad34",
            "7fafbe9d56a345689added7045714b57",
            "28ff50085142460cba5e4be8c41d85fd",
            "38697219a6e549ffbcc3d8757f8a6f5a",
            "24daa5d04589437c8ed4beafbd9c1730",
            "49f10df3733a4150ae503f32817e98d9",
            "c44f838907d34b3fa92527b46efa2df0"
          ]
        },
        "id": "2tOUK5T7SkJZ",
        "outputId": "4d980a28-068b-4fec-c23a-d3f4ae2d5a66",
        "trusted": true,
        "execution": {
          "iopub.status.busy": "2025-03-14T13:37:49.493420Z",
          "iopub.execute_input": "2025-03-14T13:37:49.493759Z",
          "iopub.status.idle": "2025-03-14T13:37:52.920573Z",
          "shell.execute_reply.started": "2025-03-14T13:37:49.493734Z",
          "shell.execute_reply": "2025-03-14T13:37:52.919860Z"
        }
      },
      "outputs": [
        {
          "output_type": "display_data",
          "data": {
            "text/plain": "config.json:   0%|          | 0.00/511 [00:00<?, ?B/s]",
            "application/vnd.jupyter.widget-view+json": {
              "version_major": 2,
              "version_minor": 0,
              "model_id": "24daa5d04589437c8ed4beafbd9c1730"
            }
          },
          "metadata": {}
        },
        {
          "output_type": "display_data",
          "data": {
            "text/plain": "pytorch_model.bin:   0%|          | 0.00/438M [00:00<?, ?B/s]",
            "application/vnd.jupyter.widget-view+json": {
              "version_major": 2,
              "version_minor": 0,
              "model_id": "49f10df3733a4150ae503f32817e98d9"
            }
          },
          "metadata": {}
        },
        {
          "output_type": "display_data",
          "data": {
            "text/plain": "model.safetensors:   0%|          | 0.00/438M [00:00<?, ?B/s]",
            "application/vnd.jupyter.widget-view+json": {
              "version_major": 2,
              "version_minor": 0,
              "model_id": "c44f838907d34b3fa92527b46efa2df0"
            }
          },
          "metadata": {}
        }
      ],
      "execution_count": null
    },
    {
      "cell_type": "code",
      "source": [
        "tokenizer=AutoTokenizer.from_pretrained(\"bert-base-uncased\")"
      ],
      "metadata": {
        "colab": {
          "base_uri": "https://localhost:8080/",
          "height": 145,
          "referenced_widgets": [
            "ab55710e8a8d4b4c9ee0bd3f82032354",
            "a614a6f9b5bd4bb79cd4e5a564a27e01",
            "75adf7f4508d4a30a4641f28474a74a0",
            "4fd359efcd1e44c7b00acba92b9b151a",
            "cb200bb815db4a95bbf5cd3a3fe02be2",
            "76911e8fc5144062830ca3e842c5876f",
            "4ab442f1d68349339db2871bcd0b0b06",
            "dd6c3073e88f40f996394dc1598acec9",
            "262d45b3c63a42e1b28cbe5a46237515",
            "4527e6c88c684297b1435538347e5113",
            "6eea903dc0644fd3acdc6ebed15d372b",
            "7ebfbdde086147ffa4ad50a69c041333",
            "a1fc2d087f374cf99afc9b9bdd79c392",
            "58bc44aafb53418198a6005b270f5266",
            "595eadbf83bb4ee6ab66055cf889bd98",
            "a927981246414de2a2600cc83c100834",
            "5fe325ee447b4c9692bd0be99ed0ea2b",
            "281376493b8a4407a224eb0267757d59",
            "8617df86ce16480988cd4d2d76b0bb93",
            "6ad400e64c204d719c97212b5faf811b",
            "e39225c370244a8689bcb5f0c1277c3c",
            "5bab7b028c8748dd862e6a2964847587",
            "ca9b90597067469b86805a0271739158",
            "5b8f6ca605fb4ee685559a337fb9a97f",
            "0ae19f687a8c48588f10326c2b9637f4",
            "0f00891cf4ec45cc9f30d75a666fd550",
            "bdc4e806dc264e198f3913bc5a7e0d01",
            "1fcb2b49851143d08c59d1996d316d0f",
            "fad9405f3a9e421298aa71a01198bfac",
            "3785a5ec4d764501878c2516cd061d86",
            "3af9160bd8ef49c0819daf3104c0e9b5",
            "33a4af8039c14fa3bf52a605be6310f4",
            "02925c6fb2924ce0acd82242197d9c07",
            "0df4972dc0194f3c869026a89f689552",
            "13f7eb833836423193e502ed48122b77",
            "1c37adf9780740d8b95ea06cb5c6af1f",
            "5986177fedcf4dea8100571bc580bcbd",
            "852598909a2a48338d975212097c8ba7",
            "2ca194103cae485cac553a4b1dd9efd4",
            "c44559bb47a143fdb55aa6999554f210",
            "8fcce5d9859944079d5f50499aa5125d",
            "c24f0f572d8a44a3a2562f836a5a79ef",
            "c2cfdcec5c65435fab9847557075dfca",
            "4cb3e46aebbc47e8aa95b7f6b80bdb18",
            "72762654e1c8473ab2db555c080788bc",
            "186cadf6ab484336b42b915094f8b379",
            "9dfa6930dcea40b898f0f18b27ebf224",
            "e220bdc13d7b4ba48d49420176785f5f"
          ]
        },
        "id": "fTo9NsfIXxd3",
        "outputId": "0fa50675-7dac-45c1-fb22-4ed3511b7ce9",
        "trusted": true,
        "execution": {
          "iopub.status.busy": "2025-03-14T13:38:12.198673Z",
          "iopub.execute_input": "2025-03-14T13:38:12.198966Z",
          "iopub.status.idle": "2025-03-14T13:38:13.438428Z",
          "shell.execute_reply.started": "2025-03-14T13:38:12.198946Z",
          "shell.execute_reply": "2025-03-14T13:38:13.437797Z"
        }
      },
      "outputs": [
        {
          "output_type": "display_data",
          "data": {
            "text/plain": "tokenizer_config.json:   0%|          | 0.00/48.0 [00:00<?, ?B/s]",
            "application/vnd.jupyter.widget-view+json": {
              "version_major": 2,
              "version_minor": 0,
              "model_id": "72762654e1c8473ab2db555c080788bc"
            }
          },
          "metadata": {}
        },
        {
          "output_type": "display_data",
          "data": {
            "text/plain": "config.json:   0%|          | 0.00/570 [00:00<?, ?B/s]",
            "application/vnd.jupyter.widget-view+json": {
              "version_major": 2,
              "version_minor": 0,
              "model_id": "186cadf6ab484336b42b915094f8b379"
            }
          },
          "metadata": {}
        },
        {
          "output_type": "display_data",
          "data": {
            "text/plain": "vocab.txt:   0%|          | 0.00/232k [00:00<?, ?B/s]",
            "application/vnd.jupyter.widget-view+json": {
              "version_major": 2,
              "version_minor": 0,
              "model_id": "9dfa6930dcea40b898f0f18b27ebf224"
            }
          },
          "metadata": {}
        },
        {
          "output_type": "display_data",
          "data": {
            "text/plain": "tokenizer.json:   0%|          | 0.00/466k [00:00<?, ?B/s]",
            "application/vnd.jupyter.widget-view+json": {
              "version_major": 2,
              "version_minor": 0,
              "model_id": "e220bdc13d7b4ba48d49420176785f5f"
            }
          },
          "metadata": {}
        }
      ],
      "execution_count": null
    },
    {
      "cell_type": "markdown",
      "source": [
        "I use the same sequence length (128) as the teacher model. If you use a different sequence length for distillation, the student model might struggle to align its learned representations with the teacher's leading to suboptimal performance"
      ],
      "metadata": {
        "id": "sdFPVrnS2PEZ"
      }
    },
    {
      "cell_type": "code",
      "source": [
        "# Tokenize the dataset\n",
        "def tokenize_function(examples):\n",
        "    return tokenizer(examples[\"text\"], padding=\"max_length\", truncation=True, max_length=128)\n",
        "\n",
        "tokenized_datasets = dataset.map(tokenize_function, batched=True)\n",
        "tokenized_datasets.set_format(\"torch\", columns=[\"input_ids\", \"attention_mask\", \"label\"])"
      ],
      "metadata": {
        "id": "SXCg7owRRqqP",
        "trusted": true,
        "execution": {
          "iopub.status.busy": "2025-03-14T14:56:02.420691Z",
          "iopub.execute_input": "2025-03-14T14:56:02.420985Z",
          "iopub.status.idle": "2025-03-14T14:56:02.449111Z",
          "shell.execute_reply.started": "2025-03-14T14:56:02.420963Z",
          "shell.execute_reply": "2025-03-14T14:56:02.448505Z"
        }
      },
      "outputs": [],
      "execution_count": null
    },
    {
      "cell_type": "code",
      "source": [
        "tokenized_datasets"
      ],
      "metadata": {
        "colab": {
          "base_uri": "https://localhost:8080/"
        },
        "id": "mgXXR3_A6_yq",
        "outputId": "51b3647e-02f7-4d19-cad9-261a9ba65bd8",
        "trusted": true,
        "execution": {
          "iopub.status.busy": "2025-03-14T14:56:05.746125Z",
          "iopub.execute_input": "2025-03-14T14:56:05.746518Z",
          "iopub.status.idle": "2025-03-14T14:56:05.751850Z",
          "shell.execute_reply.started": "2025-03-14T14:56:05.746489Z",
          "shell.execute_reply": "2025-03-14T14:56:05.751070Z"
        }
      },
      "outputs": [
        {
          "execution_count": 56,
          "output_type": "execute_result",
          "data": {
            "text/plain": "DatasetDict({\n    train: Dataset({\n        features: ['text', 'label', 'input_ids', 'token_type_ids', 'attention_mask'],\n        num_rows: 25000\n    })\n    test: Dataset({\n        features: ['text', 'label', 'input_ids', 'token_type_ids', 'attention_mask'],\n        num_rows: 25000\n    })\n    unsupervised: Dataset({\n        features: ['text', 'label', 'input_ids', 'token_type_ids', 'attention_mask'],\n        num_rows: 50000\n    })\n})"
          },
          "metadata": {}
        }
      ],
      "execution_count": null
    },
    {
      "cell_type": "markdown",
      "source": [
        "Load Student Model : Disitilled BERT 67M params (12 att. heads and 6 layer). For further compression, I load only 8 att. heads and 4 layers, about 52,7M params"
      ],
      "metadata": {
        "id": "Mbgseqf2YSrk"
      }
    },
    {
      "cell_type": "code",
      "source": [
        "# Load student model\n",
        "dbert_config = DistilBertConfig(n_heads=8, n_layers=4,num_labels=2)\n",
        "student_model = DistilBertForSequenceClassification.from_pretrained(\"distilbert-base-uncased\",config=dbert_config).to(device)"
      ],
      "metadata": {
        "colab": {
          "base_uri": "https://localhost:8080/",
          "referenced_widgets": [
            "2171338cd02544dc99fbd80eff6d95c8"
          ]
        },
        "id": "NQ8_DU19YRlz",
        "outputId": "1ee301da-5da1-44b8-8750-0df59a6047a5",
        "trusted": true,
        "execution": {
          "iopub.status.busy": "2025-03-14T13:38:28.443589Z",
          "iopub.execute_input": "2025-03-14T13:38:28.443917Z",
          "iopub.status.idle": "2025-03-14T13:38:29.833519Z",
          "shell.execute_reply.started": "2025-03-14T13:38:28.443890Z",
          "shell.execute_reply": "2025-03-14T13:38:29.832594Z"
        }
      },
      "outputs": [
        {
          "output_type": "display_data",
          "data": {
            "text/plain": "model.safetensors:   0%|          | 0.00/268M [00:00<?, ?B/s]",
            "application/vnd.jupyter.widget-view+json": {
              "version_major": 2,
              "version_minor": 0,
              "model_id": "2171338cd02544dc99fbd80eff6d95c8"
            }
          },
          "metadata": {}
        },
        {
          "name": "stderr",
          "text": "Some weights of DistilBertForSequenceClassification were not initialized from the model checkpoint at distilbert-base-uncased and are newly initialized: ['classifier.bias', 'classifier.weight', 'pre_classifier.bias', 'pre_classifier.weight']\nYou should probably TRAIN this model on a down-stream task to be able to use it for predictions and inference.\n",
          "output_type": "stream"
        }
      ],
      "execution_count": null
    },
    {
      "cell_type": "code",
      "source": [
        "# @title\n",
        "def print_trainable_parameters(model):\n",
        "    \"\"\"\n",
        "    Prints the number of trainable parameters in the model.\n",
        "    \"\"\"\n",
        "    trainable_params = 0\n",
        "    all_param = 0\n",
        "    for _, param in model.named_parameters():\n",
        "        all_param += param.numel()\n",
        "        if param.requires_grad:\n",
        "            trainable_params += param.numel()\n",
        "    print(\n",
        "        f\"trainable params: {trainable_params} || all params: {all_param} || trainable%: {100 * trainable_params / all_param}\"\n",
        "    )\n",
        "\n",
        "def count_trainable_params(model):\n",
        "    return sum(p.numel() for p in model.parameters() if p.requires_grad)"
      ],
      "metadata": {
        "cellView": "form",
        "id": "CgEIKKac-eF1",
        "trusted": true,
        "execution": {
          "iopub.status.busy": "2025-03-14T13:38:37.431021Z",
          "iopub.execute_input": "2025-03-14T13:38:37.431324Z",
          "iopub.status.idle": "2025-03-14T13:38:37.437671Z",
          "shell.execute_reply.started": "2025-03-14T13:38:37.431300Z",
          "shell.execute_reply": "2025-03-14T13:38:37.436530Z"
        },
        "jupyter": {
          "source_hidden": true
        }
      },
      "outputs": [],
      "execution_count": null
    },
    {
      "cell_type": "code",
      "source": [
        "print_trainable_parameters(teacher_model.parameters)"
      ],
      "metadata": {
        "trusted": true,
        "execution": {
          "iopub.status.busy": "2025-03-14T13:39:13.281838Z",
          "iopub.execute_input": "2025-03-14T13:39:13.282180Z",
          "iopub.status.idle": "2025-03-14T13:39:13.287268Z",
          "shell.execute_reply.started": "2025-03-14T13:39:13.282155Z",
          "shell.execute_reply": "2025-03-14T13:39:13.286331Z"
        },
        "id": "7HBJ7jCS2PEa",
        "outputId": "0770200d-fc84-4e5a-975e-c14ec2f2ce96"
      },
      "outputs": [
        {
          "name": "stdout",
          "text": "trainable params: 109483778 || all params: 109483778 || trainable%: 100.0\n",
          "output_type": "stream"
        }
      ],
      "execution_count": null
    },
    {
      "cell_type": "code",
      "source": [
        "print_trainable_parameters(student_model)"
      ],
      "metadata": {
        "colab": {
          "base_uri": "https://localhost:8080/"
        },
        "id": "IOrClBMLZvV3",
        "outputId": "c8a453ed-721a-43ae-e419-24dfb97ed0c2",
        "trusted": true,
        "execution": {
          "iopub.status.busy": "2025-03-14T13:38:53.834402Z",
          "iopub.execute_input": "2025-03-14T13:38:53.834787Z",
          "iopub.status.idle": "2025-03-14T13:38:53.839349Z",
          "shell.execute_reply.started": "2025-03-14T13:38:53.834761Z",
          "shell.execute_reply": "2025-03-14T13:38:53.838534Z"
        }
      },
      "outputs": [
        {
          "name": "stdout",
          "text": "trainable params: 52779266 || all params: 52779266 || trainable%: 100.0\n",
          "output_type": "stream"
        }
      ],
      "execution_count": null
    },
    {
      "cell_type": "markdown",
      "source": [
        "## 3- Distillation with soft targets"
      ],
      "metadata": {
        "id": "olV8xi9QYoCx"
      }
    },
    {
      "cell_type": "code",
      "source": [
        "# Create dataloaders\n",
        "train_dataloader = DataLoader(tokenized_datasets[\"train\"], batch_size=16, shuffle=True)\n",
        "test_dataloader = DataLoader(tokenized_datasets[\"test\"], batch_size=16)"
      ],
      "metadata": {
        "id": "zYK6z4EsZHeF",
        "trusted": true,
        "execution": {
          "iopub.status.busy": "2025-03-14T14:56:14.434546Z",
          "iopub.execute_input": "2025-03-14T14:56:14.434845Z",
          "iopub.status.idle": "2025-03-14T14:56:14.438718Z",
          "shell.execute_reply.started": "2025-03-14T14:56:14.434820Z",
          "shell.execute_reply": "2025-03-14T14:56:14.437784Z"
        }
      },
      "outputs": [],
      "execution_count": null
    },
    {
      "cell_type": "code",
      "source": [
        "# Define distillation loss\n",
        "def distillation_loss(student_logits, teacher_logits, labels, temperature=2.0, alpha=0.5):\n",
        "\n",
        "    # Soften the teacher's logits with temperature\n",
        "    soft_teacher = torch.nn.functional.softmax(teacher_logits / temperature, dim=-1)\n",
        "    soft_student = torch.nn.functional.log_softmax(student_logits / temperature, dim=-1)\n",
        "\n",
        "    # KL divergence loss (distillation loss)\n",
        "    soft_loss = torch.nn.functional.kl_div(soft_student, soft_teacher, reduction=\"batchmean\") * (temperature**2)\n",
        "\n",
        "    # Cross-entropy loss (task-specific loss)\n",
        "    hard_loss = torch.nn.functional.cross_entropy(student_logits, labels)\n",
        "\n",
        "    # Combined loss\n",
        "    combined_loss=alpha * soft_loss + (1 - alpha) * hard_loss\n",
        "\n",
        "    return combined_loss"
      ],
      "metadata": {
        "id": "No1hsQerZMg9",
        "trusted": true,
        "execution": {
          "iopub.status.busy": "2025-03-14T14:56:15.389156Z",
          "iopub.execute_input": "2025-03-14T14:56:15.389568Z",
          "iopub.status.idle": "2025-03-14T14:56:15.395269Z",
          "shell.execute_reply.started": "2025-03-14T14:56:15.389522Z",
          "shell.execute_reply": "2025-03-14T14:56:15.394352Z"
        }
      },
      "outputs": [],
      "execution_count": null
    },
    {
      "cell_type": "markdown",
      "source": [
        "The teacher model was fine-tuned for 4 epochs, but distillation often requires fewer epochs because the student model learns from the teacher's soft targets, which are easier to fit. So I'll use 3 epochs."
      ],
      "metadata": {
        "id": "jta7gy1Y2PEb"
      }
    },
    {
      "cell_type": "code",
      "source": [
        "# Training loop\n",
        "num_epochs = 3\n",
        "\n",
        "# Define optimizer and learning rate scheduler\n",
        "optimizer = AdamW(student_model.parameters(), lr=5e-5,weight_decay=0.01) #L2 Regularization (penalize large weights) with 0.01 strength\n",
        "num_training_steps = len(train_dataloader) * num_epochs\n",
        "lr_scheduler = get_scheduler(\"linear\", optimizer=optimizer, num_warmup_steps=0, num_training_steps=num_training_steps)\n",
        "max_grad_norm=1.0\n",
        "\n",
        "for epoch in range(num_epochs):\n",
        "\n",
        "    student_model.train()\n",
        "    teacher_model.eval()\n",
        "\n",
        "    total_loss = 0\n",
        "    total_teacher_correct=0\n",
        "    total_student_correct=0\n",
        "    total_samples = 0\n",
        "\n",
        "    #for batch in train_dataloader:\n",
        "    for batch in tqdm(train_dataloader, desc=f\"Epoch {epoch+1} [Train]\", unit=\"batch\", leave= False):\n",
        "\n",
        "        # Move batch to device\n",
        "        input_ids = batch[\"input_ids\"].to(device)\n",
        "        attention_mask = batch[\"attention_mask\"].to(device)\n",
        "        labels = batch[\"label\"].to(device)\n",
        "\n",
        "        # Disable gradient calculation for teacher model\n",
        "        with torch.no_grad():\n",
        "            # Forward pass through teacher model\n",
        "            teacher_outputs = teacher_model(input_ids=input_ids, attention_mask=attention_mask)\n",
        "            teacher_logits = teacher_outputs.logits\n",
        "\n",
        "            # Eval on the fly per batch : Compute teacher accuracy\n",
        "            teacher_preds = torch.argmax(teacher_logits, dim=-1)\n",
        "            teacher_correct = (teacher_preds == labels).sum().item()\n",
        "            total_teacher_correct += teacher_correct\n",
        "\n",
        "        # Forward pass through student model\n",
        "        student_outputs = student_model(input_ids=input_ids, attention_mask=attention_mask)\n",
        "        student_logits = student_outputs.logits\n",
        "\n",
        "        #Eval on the fly: Compute student accuracy\n",
        "        student_preds = torch.argmax(student_logits, dim=-1)\n",
        "        student_correct = (student_preds == labels).sum().item()\n",
        "        total_student_correct += student_correct\n",
        "\n",
        "        # Compute distillation loss\n",
        "        loss = distillation_loss(student_logits, teacher_logits, labels)\n",
        "\n",
        "        # Backpropagation with gradient clipping\n",
        "        optimizer.zero_grad()\n",
        "        loss.backward()\n",
        "        torch.nn.utils.clip_grad_norm_(student_model.parameters(), max_grad_norm)\n",
        "        optimizer.step()\n",
        "        lr_scheduler.step()\n",
        "\n",
        "        total_loss += loss.item()\n",
        "        # number of samples in batch\n",
        "        total_samples += labels.size(0)\n",
        "\n",
        "    # Calculate the accuracy for this epoch\n",
        "    teacher_accuracy = 100 * total_teacher_correct / total_samples\n",
        "    student_accuracy = 100 * total_student_correct / total_samples\n",
        "\n",
        "    #print(f\"Epoch {epoch + 1} - Average Train Loss: {total_loss / len(train_dataloader):.4f}, \"\n",
        "    #f\"Teacher Train Accuracy: {teacher_accuracy:.2f}%,\"\n",
        "    #f\"Student Train Accuracy: {student_accuracy:.2f}%\")\n",
        "\n",
        "\n",
        "    # Set models to evaluation mode\n",
        "    student_model.eval()\n",
        "    teacher_model.eval()\n",
        "\n",
        "    # Validation loop\n",
        "    test_loss = 0\n",
        "    test_teacher_correct = 0\n",
        "    test_student_correct = 0\n",
        "    test_samples = 0\n",
        "\n",
        "    with torch.no_grad():\n",
        "        for batch in tqdm(test_dataloader, desc=f\"Epoch {epoch + 1} [Eval]\", unit=\"batch\", leave= False):\n",
        "\n",
        "            # Move batch to device\n",
        "            input_ids = batch[\"input_ids\"].to(device)\n",
        "            attention_mask = batch[\"attention_mask\"].to(device)\n",
        "            labels = batch[\"label\"].to(device)\n",
        "\n",
        "            # Forward pass through teacher model\n",
        "            teacher_outputs = teacher_model(input_ids=input_ids, attention_mask=attention_mask)\n",
        "            teacher_logits = teacher_outputs.logits\n",
        "\n",
        "            # Forward pass through student model\n",
        "            student_outputs = student_model(input_ids=input_ids, attention_mask=attention_mask)\n",
        "            student_logits = student_outputs.logits\n",
        "\n",
        "            # Compute test loss\n",
        "            loss = distillation_loss(student_logits, teacher_logits, labels)\n",
        "            test_loss += loss.item()\n",
        "\n",
        "            # Compute teacher accuracy\n",
        "            teacher_preds = torch.argmax(teacher_logits, dim=-1)\n",
        "            test_teacher_correct += (teacher_preds == labels).sum().item()\n",
        "\n",
        "            # Compute student accuracy\n",
        "            student_preds = torch.argmax(student_logits, dim=-1)\n",
        "            test_student_correct += (student_preds == labels).sum().item()\n",
        "\n",
        "            test_samples += labels.size(0)\n",
        "\n",
        "    # Calculate val accuracy\n",
        "    test_teacher_accuracy = 100 * test_teacher_correct / test_samples\n",
        "    test_student_accuracy = 100 * test_student_correct / test_samples\n",
        "\n",
        "    # Print epoch metrics\n",
        "    print(\n",
        "    f\"Epoch {epoch + 1} - \"\n",
        "    f\"dstl_loss={total_loss / len(train_dataloader):.4f}, val_dstl_loss={test_loss / len(test_dataloader):.4f} |\"\n",
        "    f\"tch_acc={teacher_accuracy:.2f}%, val_tch_acc={test_teacher_accuracy:.2f}% |\"\n",
        "    f\"std_acc={student_accuracy:.2f}%, val_std_acc={test_student_accuracy:.2f}%\",\n",
        "    flush=True\n",
        "    )\n"
      ],
      "metadata": {
        "colab": {
          "base_uri": "https://localhost:8080/",
          "height": 356
        },
        "id": "5vJZEvpQazqj",
        "outputId": "9ce6dbf5-15e2-4574-9627-d0b10b1a007d",
        "trusted": true,
        "execution": {
          "iopub.status.busy": "2025-03-14T14:56:19.689950Z",
          "iopub.execute_input": "2025-03-14T14:56:19.690290Z",
          "iopub.status.idle": "2025-03-14T15:29:32.557397Z",
          "shell.execute_reply.started": "2025-03-14T14:56:19.690264Z",
          "shell.execute_reply": "2025-03-14T15:29:32.556421Z"
        }
      },
      "outputs": [
        {
          "name": "stderr",
          "text": "                                                                       ",
          "output_type": "stream"
        },
        {
          "name": "stdout",
          "text": "Epoch 1 - dstl_loss=0.7593, val_dstl_loss=0.6479 |tch_acc=99.89%, val_tch_acc=89.09% |std_acc=85.18%, val_std_acc=84.10%\n",
          "output_type": "stream"
        },
        {
          "name": "stderr",
          "text": "                                                                       ",
          "output_type": "stream"
        },
        {
          "name": "stdout",
          "text": "Epoch 2 - dstl_loss=0.4161, val_dstl_loss=0.8187 |tch_acc=99.89%, val_tch_acc=89.09% |std_acc=93.24%, val_std_acc=84.26%\n",
          "output_type": "stream"
        },
        {
          "name": "stderr",
          "text": "                                                                       ",
          "output_type": "stream"
        },
        {
          "name": "stdout",
          "text": "Epoch 3 - dstl_loss=0.1989, val_dstl_loss=1.1808 |tch_acc=99.89%, val_tch_acc=89.09% |std_acc=97.31%, val_std_acc=84.03%\n",
          "output_type": "stream"
        },
        {
          "name": "stderr",
          "text": "\r",
          "output_type": "stream"
        }
      ],
      "execution_count": null
    },
    {
      "cell_type": "markdown",
      "source": [
        "## Push to HF hub"
      ],
      "metadata": {
        "id": "C2kRCdct2PEb"
      }
    },
    {
      "cell_type": "code",
      "source": [
        "model_id = \"zakariajaadi/distilbert-base-uncased-imdb\"\n",
        "student_model.push_to_hub(model_id)"
      ],
      "metadata": {
        "trusted": true,
        "execution": {
          "iopub.status.busy": "2025-03-14T15:38:25.973001Z",
          "iopub.execute_input": "2025-03-14T15:38:25.973330Z",
          "iopub.status.idle": "2025-03-14T15:38:35.347716Z",
          "shell.execute_reply.started": "2025-03-14T15:38:25.973303Z",
          "shell.execute_reply": "2025-03-14T15:38:35.346841Z"
        },
        "id": "q-OAZu5q2PEb",
        "outputId": "194474a6-e9c4-41f2-d8a3-7340e879002c",
        "colab": {
          "referenced_widgets": [
            "eff0eb124873458990bdefe09bd6095d"
          ]
        }
      },
      "outputs": [
        {
          "output_type": "display_data",
          "data": {
            "text/plain": "model.safetensors:   0%|          | 0.00/211M [00:00<?, ?B/s]",
            "application/vnd.jupyter.widget-view+json": {
              "version_major": 2,
              "version_minor": 0,
              "model_id": "eff0eb124873458990bdefe09bd6095d"
            }
          },
          "metadata": {}
        },
        {
          "execution_count": 65,
          "output_type": "execute_result",
          "data": {
            "text/plain": "CommitInfo(commit_url='https://huggingface.co/zakariajaadi/distilbert-base-uncased-imdb/commit/95eb74b27e157b4106434a7f762f1c0360306001', commit_message='Upload DistilBertForSequenceClassification', commit_description='', oid='95eb74b27e157b4106434a7f762f1c0360306001', pr_url=None, repo_url=RepoUrl('https://huggingface.co/zakariajaadi/distilbert-base-uncased-imdb', endpoint='https://huggingface.co', repo_type='model', repo_id='zakariajaadi/distilbert-base-uncased-imdb'), pr_revision=None, pr_num=None)"
          },
          "metadata": {}
        }
      ],
      "execution_count": null
    }
  ]
}