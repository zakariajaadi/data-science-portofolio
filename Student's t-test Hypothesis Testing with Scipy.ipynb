{
  "nbformat": 4,
  "nbformat_minor": 0,
  "metadata": {
    "colab": {
      "provenance": [],
      "authorship_tag": "ABX9TyMgYyErieSCHQCr8ogaBcvd",
      "include_colab_link": true
    },
    "kernelspec": {
      "name": "python3",
      "display_name": "Python 3"
    },
    "language_info": {
      "name": "python"
    }
  },
  "cells": [
    {
      "cell_type": "markdown",
      "metadata": {
        "id": "view-in-github",
        "colab_type": "text"
      },
      "source": [
        "<a href=\"https://colab.research.google.com/github/zakariajaadi/data-science-portofolio/blob/main/Student's%20t-test%20Hypothesis%20Testing%20with%20Scipy.ipynb\" target=\"_parent\"><img src=\"https://colab.research.google.com/assets/colab-badge.svg\" alt=\"Open In Colab\"/></a>"
      ]
    },
    {
      "cell_type": "markdown",
      "source": [
        "# 1. Introduction\n",
        "\n",
        "## Defintion of t-test\n",
        "The t-statistic (or Student's t-test) is a statistical test used to assess whether the means of one or two groups are significantly different from each other. It's particularly useful when the sample size is small (n<30) or when the population variance is unknown (which is very common in practice).  While it can be used with small samples, the t-test is valid for any sample size, large or small, as long as the underlying assumptions are met (more on this below).  It's a useful alternative to the z-test, which requires the population variance to be known.\n",
        "## Types of t-test\n",
        "\n",
        "There are different types of t-tests:\n",
        "\n",
        "1. **One-Sample t-test:** Used to compare the mean of a single sample to a known or hypothesized value (e.g., a population mean or a target value).\n",
        "\n",
        "2. **Independent Samples t-Test:** Used to compare the means of two independent groups.  There are two versions of this test:\n",
        "  1. **pooled variance t-test** one that assumes equal variances between the two groups\n",
        "  2. **Welch's t-test:** does not assume equal variances between the two groups\n",
        "\n",
        "  The choice between these two depends on whether the variances of the two groups are equal or not.\n",
        "\n",
        "3. **Paired Sample t-Test (Dependent t-Test)**: Used when comparing the means of two related groups or the same group at different times (e.g., before and after an intervention).  This test analyzes the differences between the paired measurements.\""
      ],
      "metadata": {
        "id": "dt8DEmqpWj9n"
      }
    },
    {
      "cell_type": "markdown",
      "source": [
        "# 2- One sample t-test implementation with scipy"
      ],
      "metadata": {
        "id": "Mu7TwZbkcO18"
      }
    },
    {
      "cell_type": "code",
      "execution_count": null,
      "metadata": {
        "colab": {
          "base_uri": "https://localhost:8080/"
        },
        "id": "-1ZQHZQtQ9MV",
        "outputId": "dfa78bfc-a361-4520-ad5b-36be57b17b47"
      },
      "outputs": [
        {
          "output_type": "stream",
          "name": "stdout",
          "text": [
            "T-statistic: 3.10\n",
            "P-value: 0.005\n",
            "two tailed :\n",
            "The class performed significantly differently from the national average.\n",
            "The class performed significantly better than the national average.\n"
          ]
        }
      ],
      "source": [
        "import numpy as np\n",
        "import scipy.stats as stats\n",
        "\n",
        "# 1. Your class's test scores (replace with your actual data)\n",
        "class_scores = np.array([78, 82, 90, 70, 75, 85, 68, 92, 77, 80, 88, 73, 79, 81, 83, 76, 87, 72, 95, 65, 89, 74, 91, 69, 84])\n",
        "\n",
        "# 2. National average (population mean)\n",
        "national_average = 75\n",
        "\n",
        "\n",
        "# H0 (Null Hypothesis): The class's mean score is equal to the national average.\n",
        "# H1 (Alternative Hypothesis): The class's mean score is different from the national average.\n",
        "\n",
        "# 3. Perform the one-sample t-test\n",
        "t_statistic, p_value = stats.ttest_1samp(class_scores, national_average)\n",
        "# 4. Print the results\n",
        "print(f\"T-statistic: {t_statistic:.2f}\")\n",
        "print(f\"P-value: {p_value:.3f}\")\n",
        "\n",
        "# 5. Interpret the results\n",
        "alpha = 0.05  # Significance level\n",
        "\n",
        "print(\"two tailed :\")\n",
        "if p_value < alpha:\n",
        "    print(\"The class performed significantly differently from the national average.\")\n",
        "    if np.mean(class_scores)> national_average:\n",
        "        print(\"The class performed significantly better than the national average.\")\n",
        "    else:\n",
        "        print(\"The class performed significantly worse than the national average.\")\n",
        "else:\n",
        "    print(\"There is no significant difference between the class's performance and the national average.\")\n",
        "\n"
      ]
    },
    {
      "cell_type": "code",
      "source": [],
      "metadata": {
        "id": "-lm6tGKXhKeN"
      },
      "execution_count": null,
      "outputs": []
    },
    {
      "cell_type": "markdown",
      "source": [
        "Explanation:\n",
        "\n",
        "**Data**:  class_scores is a NumPy array containing the test scores of your students.  Replace these with your actual data.\n",
        "\n",
        "**Population Mean**: national_average stores the known population mean (75).\n",
        "\n",
        "**stats.ttest_1samp()**:  This function from scipy.stats performs the one-sample t-test. It takes the sample data and the population mean as arguments.\n",
        "\n",
        "**Results**: The function returns the t-statistic and the p-value.\n",
        "\n",
        "**Interpretation**:  We compare the p-value to our significance level (alpha, usually 0.05).  If the p-value is less than alpha, we reject the null hypothesis and conclude that there's a statistically significant difference between the class's performance and the national average.\n"
      ],
      "metadata": {
        "id": "DBcgyjA9SK5C"
      }
    },
    {
      "cell_type": "markdown",
      "source": [],
      "metadata": {
        "id": "HI_lbbbpgTec"
      }
    },
    {
      "cell_type": "markdown",
      "source": [
        "# 2- One sample t-test implementation with scipy"
      ],
      "metadata": {
        "id": "gAnJn_aMgTxc"
      }
    },
    {
      "cell_type": "code",
      "source": [],
      "metadata": {
        "id": "vAeRzHUDQ-1L"
      },
      "execution_count": null,
      "outputs": []
    }
  ]
}